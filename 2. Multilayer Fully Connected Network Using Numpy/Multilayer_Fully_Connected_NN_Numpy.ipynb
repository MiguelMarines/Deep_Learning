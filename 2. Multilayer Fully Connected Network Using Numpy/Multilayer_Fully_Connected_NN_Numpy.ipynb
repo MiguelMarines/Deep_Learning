{
  "cells": [
    {
      "cell_type": "markdown",
      "metadata": {
        "id": "YbvfEAOQVwjc"
      },
      "source": [
        "\n",
        "#**DEEP LEARNING - MIGUEL MARINES**\n",
        "##**<u>Fully Connected Deep Neural Network</u>**\n",
        "---\n",
        "---\n",
        "\n",
        "#### Implementation of a Fully Connected Network for Kaggle ASL Dataset\n",
        "\n",
        "The aim of this activity is to implement a multilayer network for the [Kaggle ASL (American Sign Language) Dataset](https://www.kaggle.com/datasets/grassknoted/asl-alphabet)."
      ]
    },
    {
      "cell_type": "code",
      "source": [
        "# Google Drive in Google Colab.\n",
        "# Access to files and directories stored in Google Drive from a Colab notebook.\n",
        "from google.colab import drive\n",
        "drive.mount('/content/drive')"
      ],
      "metadata": {
        "colab": {
          "base_uri": "https://localhost:8080/"
        },
        "id": "Bmovu1Y9aWhL",
        "outputId": "b262b119-b723-43ed-ea2f-a594e1c586fb"
      },
      "execution_count": null,
      "outputs": [
        {
          "output_type": "stream",
          "name": "stdout",
          "text": [
            "Drive already mounted at /content/drive; to attempt to forcibly remount, call drive.mount(\"/content/drive\", force_remount=True).\n"
          ]
        }
      ]
    },
    {
      "cell_type": "code",
      "execution_count": null,
      "metadata": {
        "id": "s6BIGk6rVwje"
      },
      "outputs": [],
      "source": [
        "# Libraries\n",
        "import numpy as np                # Operations with multidimensional arrays and mathematical functions.\n",
        "import string                     # Text manipulation.\n",
        "import pandas as pd               # Manipulation and analysis of structured data (DataFrames).\n",
        "import matplotlib.pyplot as plt   # Data visualization.\n",
        "import cv2 as cv                  # Image processing.\n",
        "import os                         # Interaction with the operating system and file path manipulation."
      ]
    },
    {
      "cell_type": "markdown",
      "source": [
        "### **Import Data**"
      ],
      "metadata": {
        "id": "oyzbGorsUftC"
      }
    },
    {
      "cell_type": "code",
      "execution_count": null,
      "metadata": {
        "id": "Cb7Qt0xkVwjf"
      },
      "outputs": [],
      "source": [
        "# File Upload\n",
        "\n",
        "DATA_PATH = '/content/drive/MyDrive/Deep_Learning/asl_data'               # Path to the dataset.\n",
        "\n",
        "train_df = pd.read_csv(os.path.join(DATA_PATH, 'sign_mnist_train.csv'))   # Load training data.\n",
        "valid_df = pd.read_csv(os.path.join(DATA_PATH, 'sign_mnist_valid.csv'))   # Load validation data."
      ]
    },
    {
      "cell_type": "code",
      "execution_count": null,
      "metadata": {
        "colab": {
          "base_uri": "https://localhost:8080/",
          "height": 256
        },
        "id": "TmXQD_mHVwjf",
        "outputId": "4737cad7-9dbb-49ea-a476-e847c163a766"
      },
      "outputs": [
        {
          "output_type": "execute_result",
          "data": {
            "text/plain": [
              "   label  pixel1  pixel2  pixel3  pixel4  pixel5  pixel6  pixel7  pixel8  \\\n",
              "0      3     107     118     127     134     139     143     146     150   \n",
              "1      6     155     157     156     156     156     157     156     158   \n",
              "2      2     187     188     188     187     187     186     187     188   \n",
              "3      2     211     211     212     212     211     210     211     210   \n",
              "4     12     164     167     170     172     176     179     180     184   \n",
              "\n",
              "   pixel9  ...  pixel775  pixel776  pixel777  pixel778  pixel779  pixel780  \\\n",
              "0     153  ...       207       207       207       207       206       206   \n",
              "1     158  ...        69       149       128        87        94       163   \n",
              "2     187  ...       202       201       200       199       198       199   \n",
              "3     210  ...       235       234       233       231       230       226   \n",
              "4     185  ...        92       105       105       108       133       163   \n",
              "\n",
              "   pixel781  pixel782  pixel783  pixel784  \n",
              "0       206       204       203       202  \n",
              "1       175       103       135       149  \n",
              "2       198       195       194       195  \n",
              "3       225       222       229       163  \n",
              "4       157       163       164       179  \n",
              "\n",
              "[5 rows x 785 columns]"
            ],
            "text/html": [
              "\n",
              "  <div id=\"df-023ea71a-be08-4a6b-8ed0-996733992b38\" class=\"colab-df-container\">\n",
              "    <div>\n",
              "<style scoped>\n",
              "    .dataframe tbody tr th:only-of-type {\n",
              "        vertical-align: middle;\n",
              "    }\n",
              "\n",
              "    .dataframe tbody tr th {\n",
              "        vertical-align: top;\n",
              "    }\n",
              "\n",
              "    .dataframe thead th {\n",
              "        text-align: right;\n",
              "    }\n",
              "</style>\n",
              "<table border=\"1\" class=\"dataframe\">\n",
              "  <thead>\n",
              "    <tr style=\"text-align: right;\">\n",
              "      <th></th>\n",
              "      <th>label</th>\n",
              "      <th>pixel1</th>\n",
              "      <th>pixel2</th>\n",
              "      <th>pixel3</th>\n",
              "      <th>pixel4</th>\n",
              "      <th>pixel5</th>\n",
              "      <th>pixel6</th>\n",
              "      <th>pixel7</th>\n",
              "      <th>pixel8</th>\n",
              "      <th>pixel9</th>\n",
              "      <th>...</th>\n",
              "      <th>pixel775</th>\n",
              "      <th>pixel776</th>\n",
              "      <th>pixel777</th>\n",
              "      <th>pixel778</th>\n",
              "      <th>pixel779</th>\n",
              "      <th>pixel780</th>\n",
              "      <th>pixel781</th>\n",
              "      <th>pixel782</th>\n",
              "      <th>pixel783</th>\n",
              "      <th>pixel784</th>\n",
              "    </tr>\n",
              "  </thead>\n",
              "  <tbody>\n",
              "    <tr>\n",
              "      <th>0</th>\n",
              "      <td>3</td>\n",
              "      <td>107</td>\n",
              "      <td>118</td>\n",
              "      <td>127</td>\n",
              "      <td>134</td>\n",
              "      <td>139</td>\n",
              "      <td>143</td>\n",
              "      <td>146</td>\n",
              "      <td>150</td>\n",
              "      <td>153</td>\n",
              "      <td>...</td>\n",
              "      <td>207</td>\n",
              "      <td>207</td>\n",
              "      <td>207</td>\n",
              "      <td>207</td>\n",
              "      <td>206</td>\n",
              "      <td>206</td>\n",
              "      <td>206</td>\n",
              "      <td>204</td>\n",
              "      <td>203</td>\n",
              "      <td>202</td>\n",
              "    </tr>\n",
              "    <tr>\n",
              "      <th>1</th>\n",
              "      <td>6</td>\n",
              "      <td>155</td>\n",
              "      <td>157</td>\n",
              "      <td>156</td>\n",
              "      <td>156</td>\n",
              "      <td>156</td>\n",
              "      <td>157</td>\n",
              "      <td>156</td>\n",
              "      <td>158</td>\n",
              "      <td>158</td>\n",
              "      <td>...</td>\n",
              "      <td>69</td>\n",
              "      <td>149</td>\n",
              "      <td>128</td>\n",
              "      <td>87</td>\n",
              "      <td>94</td>\n",
              "      <td>163</td>\n",
              "      <td>175</td>\n",
              "      <td>103</td>\n",
              "      <td>135</td>\n",
              "      <td>149</td>\n",
              "    </tr>\n",
              "    <tr>\n",
              "      <th>2</th>\n",
              "      <td>2</td>\n",
              "      <td>187</td>\n",
              "      <td>188</td>\n",
              "      <td>188</td>\n",
              "      <td>187</td>\n",
              "      <td>187</td>\n",
              "      <td>186</td>\n",
              "      <td>187</td>\n",
              "      <td>188</td>\n",
              "      <td>187</td>\n",
              "      <td>...</td>\n",
              "      <td>202</td>\n",
              "      <td>201</td>\n",
              "      <td>200</td>\n",
              "      <td>199</td>\n",
              "      <td>198</td>\n",
              "      <td>199</td>\n",
              "      <td>198</td>\n",
              "      <td>195</td>\n",
              "      <td>194</td>\n",
              "      <td>195</td>\n",
              "    </tr>\n",
              "    <tr>\n",
              "      <th>3</th>\n",
              "      <td>2</td>\n",
              "      <td>211</td>\n",
              "      <td>211</td>\n",
              "      <td>212</td>\n",
              "      <td>212</td>\n",
              "      <td>211</td>\n",
              "      <td>210</td>\n",
              "      <td>211</td>\n",
              "      <td>210</td>\n",
              "      <td>210</td>\n",
              "      <td>...</td>\n",
              "      <td>235</td>\n",
              "      <td>234</td>\n",
              "      <td>233</td>\n",
              "      <td>231</td>\n",
              "      <td>230</td>\n",
              "      <td>226</td>\n",
              "      <td>225</td>\n",
              "      <td>222</td>\n",
              "      <td>229</td>\n",
              "      <td>163</td>\n",
              "    </tr>\n",
              "    <tr>\n",
              "      <th>4</th>\n",
              "      <td>12</td>\n",
              "      <td>164</td>\n",
              "      <td>167</td>\n",
              "      <td>170</td>\n",
              "      <td>172</td>\n",
              "      <td>176</td>\n",
              "      <td>179</td>\n",
              "      <td>180</td>\n",
              "      <td>184</td>\n",
              "      <td>185</td>\n",
              "      <td>...</td>\n",
              "      <td>92</td>\n",
              "      <td>105</td>\n",
              "      <td>105</td>\n",
              "      <td>108</td>\n",
              "      <td>133</td>\n",
              "      <td>163</td>\n",
              "      <td>157</td>\n",
              "      <td>163</td>\n",
              "      <td>164</td>\n",
              "      <td>179</td>\n",
              "    </tr>\n",
              "  </tbody>\n",
              "</table>\n",
              "<p>5 rows × 785 columns</p>\n",
              "</div>\n",
              "    <div class=\"colab-df-buttons\">\n",
              "\n",
              "  <div class=\"colab-df-container\">\n",
              "    <button class=\"colab-df-convert\" onclick=\"convertToInteractive('df-023ea71a-be08-4a6b-8ed0-996733992b38')\"\n",
              "            title=\"Convert this dataframe to an interactive table.\"\n",
              "            style=\"display:none;\">\n",
              "\n",
              "  <svg xmlns=\"http://www.w3.org/2000/svg\" height=\"24px\" viewBox=\"0 -960 960 960\">\n",
              "    <path d=\"M120-120v-720h720v720H120Zm60-500h600v-160H180v160Zm220 220h160v-160H400v160Zm0 220h160v-160H400v160ZM180-400h160v-160H180v160Zm440 0h160v-160H620v160ZM180-180h160v-160H180v160Zm440 0h160v-160H620v160Z\"/>\n",
              "  </svg>\n",
              "    </button>\n",
              "\n",
              "  <style>\n",
              "    .colab-df-container {\n",
              "      display:flex;\n",
              "      gap: 12px;\n",
              "    }\n",
              "\n",
              "    .colab-df-convert {\n",
              "      background-color: #E8F0FE;\n",
              "      border: none;\n",
              "      border-radius: 50%;\n",
              "      cursor: pointer;\n",
              "      display: none;\n",
              "      fill: #1967D2;\n",
              "      height: 32px;\n",
              "      padding: 0 0 0 0;\n",
              "      width: 32px;\n",
              "    }\n",
              "\n",
              "    .colab-df-convert:hover {\n",
              "      background-color: #E2EBFA;\n",
              "      box-shadow: 0px 1px 2px rgba(60, 64, 67, 0.3), 0px 1px 3px 1px rgba(60, 64, 67, 0.15);\n",
              "      fill: #174EA6;\n",
              "    }\n",
              "\n",
              "    .colab-df-buttons div {\n",
              "      margin-bottom: 4px;\n",
              "    }\n",
              "\n",
              "    [theme=dark] .colab-df-convert {\n",
              "      background-color: #3B4455;\n",
              "      fill: #D2E3FC;\n",
              "    }\n",
              "\n",
              "    [theme=dark] .colab-df-convert:hover {\n",
              "      background-color: #434B5C;\n",
              "      box-shadow: 0px 1px 3px 1px rgba(0, 0, 0, 0.15);\n",
              "      filter: drop-shadow(0px 1px 2px rgba(0, 0, 0, 0.3));\n",
              "      fill: #FFFFFF;\n",
              "    }\n",
              "  </style>\n",
              "\n",
              "    <script>\n",
              "      const buttonEl =\n",
              "        document.querySelector('#df-023ea71a-be08-4a6b-8ed0-996733992b38 button.colab-df-convert');\n",
              "      buttonEl.style.display =\n",
              "        google.colab.kernel.accessAllowed ? 'block' : 'none';\n",
              "\n",
              "      async function convertToInteractive(key) {\n",
              "        const element = document.querySelector('#df-023ea71a-be08-4a6b-8ed0-996733992b38');\n",
              "        const dataTable =\n",
              "          await google.colab.kernel.invokeFunction('convertToInteractive',\n",
              "                                                    [key], {});\n",
              "        if (!dataTable) return;\n",
              "\n",
              "        const docLinkHtml = 'Like what you see? Visit the ' +\n",
              "          '<a target=\"_blank\" href=https://colab.research.google.com/notebooks/data_table.ipynb>data table notebook</a>'\n",
              "          + ' to learn more about interactive tables.';\n",
              "        element.innerHTML = '';\n",
              "        dataTable['output_type'] = 'display_data';\n",
              "        await google.colab.output.renderOutput(dataTable, element);\n",
              "        const docLink = document.createElement('div');\n",
              "        docLink.innerHTML = docLinkHtml;\n",
              "        element.appendChild(docLink);\n",
              "      }\n",
              "    </script>\n",
              "  </div>\n",
              "\n",
              "\n",
              "<div id=\"df-97f74c39-a510-4ae7-abb6-56d736d3c0a5\">\n",
              "  <button class=\"colab-df-quickchart\" onclick=\"quickchart('df-97f74c39-a510-4ae7-abb6-56d736d3c0a5')\"\n",
              "            title=\"Suggest charts\"\n",
              "            style=\"display:none;\">\n",
              "\n",
              "<svg xmlns=\"http://www.w3.org/2000/svg\" height=\"24px\"viewBox=\"0 0 24 24\"\n",
              "     width=\"24px\">\n",
              "    <g>\n",
              "        <path d=\"M19 3H5c-1.1 0-2 .9-2 2v14c0 1.1.9 2 2 2h14c1.1 0 2-.9 2-2V5c0-1.1-.9-2-2-2zM9 17H7v-7h2v7zm4 0h-2V7h2v10zm4 0h-2v-4h2v4z\"/>\n",
              "    </g>\n",
              "</svg>\n",
              "  </button>\n",
              "\n",
              "<style>\n",
              "  .colab-df-quickchart {\n",
              "      --bg-color: #E8F0FE;\n",
              "      --fill-color: #1967D2;\n",
              "      --hover-bg-color: #E2EBFA;\n",
              "      --hover-fill-color: #174EA6;\n",
              "      --disabled-fill-color: #AAA;\n",
              "      --disabled-bg-color: #DDD;\n",
              "  }\n",
              "\n",
              "  [theme=dark] .colab-df-quickchart {\n",
              "      --bg-color: #3B4455;\n",
              "      --fill-color: #D2E3FC;\n",
              "      --hover-bg-color: #434B5C;\n",
              "      --hover-fill-color: #FFFFFF;\n",
              "      --disabled-bg-color: #3B4455;\n",
              "      --disabled-fill-color: #666;\n",
              "  }\n",
              "\n",
              "  .colab-df-quickchart {\n",
              "    background-color: var(--bg-color);\n",
              "    border: none;\n",
              "    border-radius: 50%;\n",
              "    cursor: pointer;\n",
              "    display: none;\n",
              "    fill: var(--fill-color);\n",
              "    height: 32px;\n",
              "    padding: 0;\n",
              "    width: 32px;\n",
              "  }\n",
              "\n",
              "  .colab-df-quickchart:hover {\n",
              "    background-color: var(--hover-bg-color);\n",
              "    box-shadow: 0 1px 2px rgba(60, 64, 67, 0.3), 0 1px 3px 1px rgba(60, 64, 67, 0.15);\n",
              "    fill: var(--button-hover-fill-color);\n",
              "  }\n",
              "\n",
              "  .colab-df-quickchart-complete:disabled,\n",
              "  .colab-df-quickchart-complete:disabled:hover {\n",
              "    background-color: var(--disabled-bg-color);\n",
              "    fill: var(--disabled-fill-color);\n",
              "    box-shadow: none;\n",
              "  }\n",
              "\n",
              "  .colab-df-spinner {\n",
              "    border: 2px solid var(--fill-color);\n",
              "    border-color: transparent;\n",
              "    border-bottom-color: var(--fill-color);\n",
              "    animation:\n",
              "      spin 1s steps(1) infinite;\n",
              "  }\n",
              "\n",
              "  @keyframes spin {\n",
              "    0% {\n",
              "      border-color: transparent;\n",
              "      border-bottom-color: var(--fill-color);\n",
              "      border-left-color: var(--fill-color);\n",
              "    }\n",
              "    20% {\n",
              "      border-color: transparent;\n",
              "      border-left-color: var(--fill-color);\n",
              "      border-top-color: var(--fill-color);\n",
              "    }\n",
              "    30% {\n",
              "      border-color: transparent;\n",
              "      border-left-color: var(--fill-color);\n",
              "      border-top-color: var(--fill-color);\n",
              "      border-right-color: var(--fill-color);\n",
              "    }\n",
              "    40% {\n",
              "      border-color: transparent;\n",
              "      border-right-color: var(--fill-color);\n",
              "      border-top-color: var(--fill-color);\n",
              "    }\n",
              "    60% {\n",
              "      border-color: transparent;\n",
              "      border-right-color: var(--fill-color);\n",
              "    }\n",
              "    80% {\n",
              "      border-color: transparent;\n",
              "      border-right-color: var(--fill-color);\n",
              "      border-bottom-color: var(--fill-color);\n",
              "    }\n",
              "    90% {\n",
              "      border-color: transparent;\n",
              "      border-bottom-color: var(--fill-color);\n",
              "    }\n",
              "  }\n",
              "</style>\n",
              "\n",
              "  <script>\n",
              "    async function quickchart(key) {\n",
              "      const quickchartButtonEl =\n",
              "        document.querySelector('#' + key + ' button');\n",
              "      quickchartButtonEl.disabled = true;  // To prevent multiple clicks.\n",
              "      quickchartButtonEl.classList.add('colab-df-spinner');\n",
              "      try {\n",
              "        const charts = await google.colab.kernel.invokeFunction(\n",
              "            'suggestCharts', [key], {});\n",
              "      } catch (error) {\n",
              "        console.error('Error during call to suggestCharts:', error);\n",
              "      }\n",
              "      quickchartButtonEl.classList.remove('colab-df-spinner');\n",
              "      quickchartButtonEl.classList.add('colab-df-quickchart-complete');\n",
              "    }\n",
              "    (() => {\n",
              "      let quickchartButtonEl =\n",
              "        document.querySelector('#df-97f74c39-a510-4ae7-abb6-56d736d3c0a5 button');\n",
              "      quickchartButtonEl.style.display =\n",
              "        google.colab.kernel.accessAllowed ? 'block' : 'none';\n",
              "    })();\n",
              "  </script>\n",
              "</div>\n",
              "\n",
              "    </div>\n",
              "  </div>\n"
            ],
            "application/vnd.google.colaboratory.intrinsic+json": {
              "type": "dataframe",
              "variable_name": "train_df"
            }
          },
          "metadata": {},
          "execution_count": 29
        }
      ],
      "source": [
        "train_df.head()   # Display the first 5 rows of the DataFrame."
      ]
    },
    {
      "cell_type": "markdown",
      "metadata": {
        "id": "HfrTPpEAVwjg"
      },
      "source": [
        "### **Validation and Test Split**"
      ]
    },
    {
      "cell_type": "code",
      "execution_count": null,
      "metadata": {
        "id": "M9OW-pq6Vwjg"
      },
      "outputs": [],
      "source": [
        "y_train = np.array(train_df['label'])         # Convert the 'label' column from the training set into a NumPy array.\n",
        "y_val = np.array(valid_df['label'])           # Convert the 'label' column from the validation set into a NumPy array.\n",
        "\n",
        "del train_df['label']                         # Remove the 'label' column from the training DataFrame.\n",
        "del valid_df['label']                         # Remove the 'label' column from the validation DataFrame.\n",
        "\n",
        "x_train = train_df.values.astype(np.float32)  # Convert the remaining training data to a NumPy array of type float32.\n",
        "x_val = valid_df.values.astype(np.float32)    # Convert the remaining validation data to a NumPy array of type float32."
      ]
    },
    {
      "cell_type": "code",
      "source": [
        "# Validation and Test Split Function\n",
        "def split_val_test(x, y, pct=0.5, shuffle=True):\n",
        "\n",
        "    n = x.shape[0]                  # Get the number of samples.\n",
        "    indices = np.arange(n)          # Generate indices.\n",
        "\n",
        "    if shuffle:                     # Shuffle the indices if required.\n",
        "        np.random.shuffle(indices)\n",
        "\n",
        "    split_idx = int(n * (1 - pct))  # Calculate the split index.\n",
        "\n",
        "    # Split the data into validation and test sets based on the split index.\n",
        "    val_idx, test_idx = indices[:split_idx], indices[split_idx:]\n",
        "\n",
        "    x_val, x_test = x[val_idx], x[test_idx]  # Split x into validation and test sets using the indices.\n",
        "    y_val, y_test = y[val_idx], y[test_idx]  # Split y into validation and test sets using the indices.\n",
        "\n",
        "    return x_val, y_val, x_test, y_test"
      ],
      "metadata": {
        "id": "3WWrBvI0_vTB"
      },
      "execution_count": null,
      "outputs": []
    },
    {
      "cell_type": "code",
      "execution_count": null,
      "metadata": {
        "id": "nV379e-GVwjh"
      },
      "outputs": [],
      "source": [
        "x_val, y_val, x_test, y_test = split_val_test(x_val, y_val) # Split validation and test sets."
      ]
    },
    {
      "cell_type": "markdown",
      "source": [
        "### **Alphabet**"
      ],
      "metadata": {
        "id": "Dy-BGg4moFTh"
      }
    },
    {
      "cell_type": "code",
      "execution_count": null,
      "metadata": {
        "id": "eZDBqu_qVwji",
        "colab": {
          "base_uri": "https://localhost:8080/"
        },
        "outputId": "d6db7a33-8d83-4014-f2a3-cf2f058d93db"
      },
      "outputs": [
        {
          "output_type": "stream",
          "name": "stdout",
          "text": [
            "24\n"
          ]
        }
      ],
      "source": [
        "# Remove letters 'j' and 'z' from the alphabet list.\n",
        "alphabet = list(string.ascii_lowercase)\n",
        "alphabet.remove('j')\n",
        "alphabet.remove('z')\n",
        "print(len(alphabet))"
      ]
    },
    {
      "cell_type": "markdown",
      "metadata": {
        "id": "UvM2ytLIVwji"
      },
      "source": [
        "### **Normalise**"
      ]
    },
    {
      "cell_type": "code",
      "source": [
        "# Normalise Function.\n",
        "def normalise(x_mean, x_std, x_data):\n",
        "    return (x_data - x_mean) / x_std"
      ],
      "metadata": {
        "id": "xOFjHR2tDl6r"
      },
      "execution_count": null,
      "outputs": []
    },
    {
      "cell_type": "code",
      "source": [
        "x_mean = x_train.mean()  # Calculate the mean of the training data.\n",
        "x_std = x_train.std()    # Calculate the standard deviation of the training data.\n",
        "\n",
        "x_train = normalise(x_mean, x_std, x_train)  # Normalize the training data using the mean and std.\n",
        "x_val = normalise(x_mean, x_std, x_val)      # Normalize the validation data using the training mean and std.\n",
        "x_test = normalise(x_mean, x_std, x_test)    # Normalize the test data using the training mean and std."
      ],
      "metadata": {
        "id": "jxU3-TC8BfTb"
      },
      "execution_count": null,
      "outputs": []
    },
    {
      "cell_type": "markdown",
      "metadata": {
        "id": "oSBKEehNVwji"
      },
      "source": [
        "### **Plot Samples**"
      ]
    },
    {
      "cell_type": "code",
      "source": [
        "# Function to display images.\n",
        "def plot_image(image):\n",
        "    plt.figure(figsize=(5, 5))\n",
        "    # Display image in a 2D array format and reshape the image to 28x28 for visualization.\n",
        "    plt.imshow(image.reshape(28, 28), cmap=plt.get_cmap('gray'))\n",
        "    plt.axis('off')\n",
        "    plt.show()"
      ],
      "metadata": {
        "id": "8zE1hw9oD0sY"
      },
      "execution_count": null,
      "outputs": []
    },
    {
      "cell_type": "code",
      "source": [
        "# Image Sample\n",
        "rnd_idx = np.random.randint(len(y_test))  # Select randomly an index from the y_test array.\n",
        "plot_image(x_test[rnd_idx])  # Display the randomly selected test image using the plot_image function.\n",
        "print(f'The image shown represents in sign language the letter: {alphabet[y_test[rnd_idx]]}') # Print the label of the randomly selected test image."
      ],
      "metadata": {
        "colab": {
          "base_uri": "https://localhost:8080/",
          "height": 440
        },
        "id": "pzPADgBiFxLr",
        "outputId": "e7817be4-515d-423b-b74a-219649e509f8"
      },
      "execution_count": null,
      "outputs": [
        {
          "output_type": "display_data",
          "data": {
            "text/plain": [
              "<Figure size 500x500 with 1 Axes>"
            ],
            "image/png": "[encoded data removed]"
          },
          "metadata": {}
        },
        {
          "output_type": "stream",
          "name": "stdout",
          "text": [
            "The image shown represents in sign language the letter: d\n"
          ]
        }
      ]
    },
    {
      "cell_type": "markdown",
      "metadata": {
        "id": "2KZWgDIFVwji"
      },
      "source": [
        "### **Ecuations for the Model**\n",
        "\n",
        "\n",
        "$$z^1 = W^1 X + b^1$$\n",
        "\n",
        "$$a^1 = ReLU(z^1) $$\n",
        "\n",
        "$$z^2 = W^2 a^1 + b^2$$\n",
        "\n",
        "$$\\hat{y} = \\frac{e^{z^{2_k}}}{\\sum_j{e^{z_j}}}$$\n",
        "\n",
        "\n",
        "$$ \\mathcal{L}(\\hat{y}^{i}, y^{i}) =  - y^{i}  \\ln(\\hat{y}^{i}) = -\\ln(\\hat{y}^i)$$\n",
        "\n",
        "\n",
        "$$ \\mathcal{J}(w, b) =  \\frac{1}{num\\_samples} \\sum_{i=1}^{num\\_samples}-\\ln(\\hat{y}^{i})$$"
      ]
    },
    {
      "cell_type": "markdown",
      "metadata": {
        "id": "u_Oxr6TRVwjj"
      },
      "source": [
        "### **Mini Batches**"
      ]
    },
    {
      "cell_type": "code",
      "execution_count": null,
      "metadata": {
        "id": "dqfyZW2SVwjj"
      },
      "outputs": [],
      "source": [
        "# Function to create minibatches.\n",
        "def create_minibatches(mb_size, x, y, shuffle=True):\n",
        "\n",
        "    assert x.shape[0] == y.shape[0], 'Error en cantidad de muestras'  # Ensure the number of samples in x and y are equal.\n",
        "\n",
        "    total_data = x.shape[0] # Get the total number of data samples.\n",
        "\n",
        "    # Shuffle the indices if required.\n",
        "    if shuffle:\n",
        "        idxs = np.arange(total_data)  # Create an array of indices for all data samples.\n",
        "        np.random.shuffle(idxs) # Shuffle the indices if shuffle is True.\n",
        "        x = x[idxs] # Shuffle x based on the shuffled indices.\n",
        "        y = y[idxs] # Shuffle y based on the shuffled indices.\n",
        "\n",
        "    # Return a generator that yields minibatches of size mb_size from x and y.\n",
        "    return ((x[i:i+mb_size], y[i:i+mb_size]) for i in range(0, total_data, mb_size))"
      ]
    },
    {
      "cell_type": "markdown",
      "metadata": {
        "id": "u-8e_GvvVwjj"
      },
      "source": [
        "## **Linear, ReLU, Sequential, and SoftMax-Entropy Classes**"
      ]
    },
    {
      "cell_type": "markdown",
      "metadata": {
        "id": "RnEbWnl0Vwjj"
      },
      "source": [
        "###  **Linear Class**"
      ]
    },
    {
      "cell_type": "code",
      "source": [
        "class Linear():\n",
        "\n",
        "    # Input\n",
        "    def __init__(self, input_size, output_size):\n",
        "        # Initialize weights (W) and biases (b) for the layer with random values.\n",
        "        # Weight matrix W has shape (output_size, input_size) and is scaled for initialization.\n",
        "        # Bias vector b has shape (output_size, 1) and is initialized to zeros.\n",
        "        self.W = (np.random.randn(output_size, input_size) / np.sqrt(input_size/2)).view(np_tensor)\n",
        "        self.b = (np.zeros((output_size, 1))).view(np_tensor)\n",
        "\n",
        "    # Forward Pass\n",
        "    def __call__(self, X):\n",
        "        # Compute the linear transformation.\n",
        "        Z = self.W @ X + self.b\n",
        "        return Z\n",
        "\n",
        "    # Backward Pass (For Gradient Calculation)\n",
        "    def backward(self, X, Z):\n",
        "        # Compute gradients for input X, weights W, and biases b.\n",
        "        X.grad = self.W.T @ Z.grad  # Gradient of the loss (input X).\n",
        "        self.W.grad = Z.grad @ X.T  # Gradient of the loss (weights W).\n",
        "        self.b.grad = np.sum(Z.grad, axis=1, keepdims=True)  # Gradient of the loss (biases b)."
      ],
      "metadata": {
        "id": "bzoPF8d8HFKX"
      },
      "execution_count": null,
      "outputs": []
    },
    {
      "cell_type": "markdown",
      "metadata": {
        "id": "dqxLWM3IVwjj"
      },
      "source": [
        "### **ReLU Class**"
      ]
    },
    {
      "cell_type": "code",
      "source": [
        "class ReLU():\n",
        "\n",
        "    # Forward Pass\n",
        "    def __call__(self, Z):\n",
        "        # Apply the ReLU activation function.\n",
        "        return np.maximum(0, Z)\n",
        "\n",
        "    # Backward Pass\n",
        "    def backward(self, Z, A):\n",
        "        # Copies the gradient from A to Z.\n",
        "        # Grad and zeroes out gradients where Z <= 0.\n",
        "        Z.grad = A.grad.copy()\n",
        "        Z.grad[Z <= 0] = 0"
      ],
      "metadata": {
        "id": "dQVc4CUGHIEt"
      },
      "execution_count": null,
      "outputs": []
    },
    {
      "cell_type": "markdown",
      "metadata": {
        "id": "nXFkhSUiVwjk"
      },
      "source": [
        "### **Sequential Class**"
      ]
    },
    {
      "cell_type": "code",
      "source": [
        "class Sequential_layers():\n",
        "\n",
        "    # Input\n",
        "    def __init__(self, layers):\n",
        "        # Initialize the sequence of layers and stores them in a list.\n",
        "        self.layers = layers\n",
        "        self.x = None         # Placeholder for input.\n",
        "        self.outputs = {}     # Dictionary to store intermediate layer outputs.\n",
        "\n",
        "    # Forward Pass\n",
        "    def __call__(self, X):\n",
        "        # Pass input through each layer sequentially and stores intermediate outputs.\n",
        "        self.x = X\n",
        "        self.outputs['l0'] = self.x                   # Store input as first output.\n",
        "        for i, layer in enumerate(self.layers, 1):\n",
        "            self.x = layer(self.x)                    # Apply each layer to the current input.\n",
        "            self.outputs['l'+str(i)] = self.x         # Store output of each layer.\n",
        "        return self.x\n",
        "\n",
        "    # Backward Pass\n",
        "    def backward(self):\n",
        "        # Perform backpropagation through each layer in reverse order.\n",
        "        for i in reversed(range(len(self.layers))):\n",
        "            self.layers[i].backward(self.outputs['l'+str(i)], self.outputs['l'+str(i+1)])\n",
        "\n",
        "    # Gradient Update\n",
        "    def update(self, learning_rate=1e-3):\n",
        "        # Update weights and biases of linear layers using gradient descent.\n",
        "        for layer in self.layers:\n",
        "            if isinstance(layer, ReLU): continue  # Skip ReLU as it has no parameters.\n",
        "            layer.W = layer.W - learning_rate * layer.W.grad  # Update weights.\n",
        "            layer.b = layer.b - learning_rate * layer.b.grad  # Update biases.\n",
        "\n",
        "    # Prediction\n",
        "    def predict(self, X):\n",
        "        # Perform a forward pass and return the class with the highest score (argmax).\n",
        "        return np.argmax(self.__call__(X))"
      ],
      "metadata": {
        "id": "v5-diSepHQQz"
      },
      "execution_count": null,
      "outputs": []
    },
    {
      "cell_type": "markdown",
      "metadata": {
        "id": "Uw35q-CVVwjk"
      },
      "source": [
        "### **Cost Function**"
      ]
    },
    {
      "cell_type": "code",
      "source": [
        "# Cost Function\n",
        "def softmax_entropy(x, y):\n",
        "\n",
        "    batch_size = x.shape[1]                      # Get the batch size from the input.\n",
        "\n",
        "    exp_scores = np.exp(x)                       # Compute the exponentials of the input scores (for softmax).\n",
        "    probs = exp_scores / exp_scores.sum(axis=0)  # Compute softmax probabilities for each class.\n",
        "    preds = probs.copy()                         # Copy probabilities to use as predictions.\n",
        "\n",
        "    # Compute the cross-entropy cost (loss function).\n",
        "    y_hat = probs[y.squeeze(), np.arange(batch_size)]  # Get predicted probabilities for the true labels.\n",
        "    cost = np.sum(-np.log(y_hat)) / batch_size         # Calculate the average cross-entropy loss.\n",
        "\n",
        "    # Calculate gradients for backpropagation.\n",
        "    probs[y.squeeze(), np.arange(batch_size)] -= 1  # Gradient of the loss input x.\n",
        "    x.grad = probs.copy()                           # Store the gradient in x.\n",
        "\n",
        "    return preds, cost  # Return predicted probabilities and the cost."
      ],
      "metadata": {
        "id": "CakPdZiwHUPf"
      },
      "execution_count": null,
      "outputs": []
    },
    {
      "cell_type": "markdown",
      "metadata": {
        "id": "k0LIBk4SVwjk"
      },
      "source": [
        "## **Model**"
      ]
    },
    {
      "cell_type": "markdown",
      "metadata": {
        "id": "LnVrspXeVwjk"
      },
      "source": [
        "### **Accuracy**"
      ]
    },
    {
      "cell_type": "code",
      "source": [
        "class np_tensor(np.ndarray): pass # Define a custom class that behaves exactly like np.ndarray without adding any new functionality."
      ],
      "metadata": {
        "id": "STVGZOZQFLkP"
      },
      "execution_count": null,
      "outputs": []
    },
    {
      "cell_type": "code",
      "source": [
        "# Accuracy Functiion\n",
        "def accuracy(x, y, mb_size):\n",
        "\n",
        "    correct = 0  # Initialize counter for correct predictions.\n",
        "    total = 0    # Initialize counter for total predictions.\n",
        "\n",
        "    # Iterate over minibatches of the input data.\n",
        "    for i, (x, y) in enumerate(create_minibatches(mb_size, x, y)):\n",
        "        pred = model(x.T.view(np_tensor))  # Get model predictions for the current minibatch.\n",
        "\n",
        "        # Count correct predictions (where predicted class equals true label).\n",
        "        correct += np.sum(np.argmax(pred, axis=0) == y.squeeze())\n",
        "\n",
        "        # Update the total number of predictions made.\n",
        "        total += pred.shape[1]\n",
        "\n",
        "    # Return the accuracy as the ratio of correct predictions to total predictions.\n",
        "    return correct / total"
      ],
      "metadata": {
        "id": "u3MB0fJxHqEo"
      },
      "execution_count": null,
      "outputs": []
    },
    {
      "cell_type": "markdown",
      "source": [
        "### **Model and Training**"
      ],
      "metadata": {
        "id": "CMw62kyyFrZ7"
      }
    },
    {
      "cell_type": "markdown",
      "source": [
        "The model architecture presented is designed for the Kaggle ASL Dataset, where each input is a flattened 28x28 image, resulting in 784 input features. The architecture consists of four linear layers with progressively decreasing neurons (512, 256, 128) and ReLU activations. The rationale behind these choices is to capture complex patterns and hierarchical representations in the data.\n",
        "\n",
        "The first layer, which maps the 784 input features to 512 neurons, allows for capturing a large number of high-dimensional features from the input images. The following layers (512 → 256 → 128) progressively reduce the dimensionality, which helps the model focus on more abstract, refined features and mitigates overfitting by limiting the number of neurons. ReLU is chosen as the activation function because it introduces non-linearity, allowing the network to learn complex patterns, and helps with faster convergence compared to other functions.\n",
        "\n",
        "The final layer maps the 128 neurons to 24 outputs, corresponding to the 24 distinct classes in the ASL dataset (excluding 'j' and 'z'). The minibatch size of 512 is chosen to balance memory efficiency and gradient stability. The learning rate of 1e-4 is relatively small, which helps ensure gradual learning and prevents large updates that could lead to instability. The training spans 15 epochs, which is sufficient to allow the model to learn but not overfit to the data. This architecture is designed to be deep enough to capture the complexities of hand gestures while maintaining computational efficiency."
      ],
      "metadata": {
        "id": "fCGOR_Zb6Fi0"
      }
    },
    {
      "cell_type": "code",
      "execution_count": null,
      "metadata": {
        "id": "DkS8ngSLVwjk"
      },
      "outputs": [],
      "source": [
        "# Training Function\n",
        "def train(model, epochs, mb_size=128, learning_rate=1e-3):\n",
        "\n",
        "    for epoch in range(epochs):  # Iterate over the number of epochs.\n",
        "\n",
        "        for i, (x, y) in enumerate(create_minibatches(mb_size, x_train, y_train)):\n",
        "\n",
        "            # Forward pass: calculate scores using the model.\n",
        "            scores = model(x.T.view(np_tensor))\n",
        "\n",
        "            # Compute the cost using softmax cross-entropy.\n",
        "            _, cost = softmax_entropy(scores, y)\n",
        "\n",
        "            # Backward pass: calculate gradients.\n",
        "            model.backward()\n",
        "\n",
        "            # Update model parameters using gradient descent.\n",
        "            model.update(learning_rate)\n",
        "\n",
        "        # At the end of each epoch, print the cost and validation accuracy.\n",
        "        print(f'costo: {cost}, accuracy: {accuracy(x_val, y_val, mb_size)}')"
      ]
    },
    {
      "cell_type": "code",
      "source": [
        "# Model\n",
        "model = Sequential_layers([\n",
        "    Linear(784, 512),  # First layer: 784 input features to 512 neurons.\n",
        "    ReLU(),\n",
        "    Linear(512, 256),  # Second layer: 512 neurons to 256 neurons.\n",
        "    ReLU(),\n",
        "    Linear(256, 128),  # Third layer: 256 neurons to 128 neurons.\n",
        "    ReLU(),\n",
        "    Linear(128, 24)    # Output layer: 128 neurons to 24 classes (output).\n",
        "])\n",
        "\n",
        "mb_size = 512         # Minibatch size.\n",
        "learning_rate = 1e-4  # Learning rate for the model update.\n",
        "epochs = 15           # Number of training epochs."
      ],
      "metadata": {
        "id": "B9IZyQssMIPX"
      },
      "execution_count": null,
      "outputs": []
    },
    {
      "cell_type": "code",
      "source": [
        "# Training\n",
        "train(model, epochs, mb_size, learning_rate)"
      ],
      "metadata": {
        "colab": {
          "base_uri": "https://localhost:8080/"
        },
        "id": "qNj43REtHyIj",
        "outputId": "b635b905-7b44-4c7b-b571-d03d03bc87d5"
      },
      "execution_count": null,
      "outputs": [
        {
          "output_type": "stream",
          "name": "stdout",
          "text": [
            "costo: 0.8514973224088795, accuracy: 0.5847741215839375\n",
            "costo: 0.40337711853068875, accuracy: 0.6862799776910207\n",
            "costo: 0.21117583860677813, accuracy: 0.7381483547127718\n",
            "costo: 0.11336997580890489, accuracy: 0.7512548800892359\n",
            "costo: 0.0748242656276629, accuracy: 0.7674288901282766\n",
            "costo: 0.05204706555168195, accuracy: 0.7732849972113776\n",
            "costo: 0.039829897188390244, accuracy: 0.7752370329057445\n",
            "costo: 0.029941273601537494, accuracy: 0.7783045175683212\n",
            "costo: 0.023787279895525384, accuracy: 0.7780256553262688\n",
            "costo: 0.01973117936550624, accuracy: 0.7816508644729504\n",
            "costo: 0.019670756739478004, accuracy: 0.7752370329057445\n",
            "costo: 0.01167778005140374, accuracy: 0.7808142777467931\n",
            "costo: 0.01269321031574743, accuracy: 0.7816508644729504\n",
            "costo: 0.011722982156067159, accuracy: 0.7822085889570553\n",
            "costo: 0.009824545405839569, accuracy: 0.7796988287785834\n"
          ]
        }
      ]
    },
    {
      "cell_type": "code",
      "source": [
        "print(accuracy(x_test, y_test, mb_size))  # Model Accuracy"
      ],
      "metadata": {
        "colab": {
          "base_uri": "https://localhost:8080/"
        },
        "id": "h3yAvUWrH0nL",
        "outputId": "a9fb112d-509e-4293-bf6a-b386e608be79"
      },
      "execution_count": null,
      "outputs": [
        {
          "output_type": "stream",
          "name": "stdout",
          "text": [
            "0.7760736196319018\n"
          ]
        }
      ]
    },
    {
      "cell_type": "markdown",
      "metadata": {
        "id": "xCloyRcCVwjk"
      },
      "source": [
        "### **Test Model on Random Data From the Test Set**"
      ]
    },
    {
      "cell_type": "code",
      "execution_count": null,
      "metadata": {
        "id": "MujEFwnmVwjk",
        "colab": {
          "base_uri": "https://localhost:8080/",
          "height": 476
        },
        "outputId": "cc74704a-829d-462d-9d9c-9443cf725c63"
      },
      "outputs": [
        {
          "output_type": "display_data",
          "data": {
            "text/plain": [
              "<Figure size 500x500 with 1 Axes>"
            ],
            "image/png": "[encoded data removed]"
          },
          "metadata": {}
        },
        {
          "output_type": "stream",
          "name": "stdout",
          "text": [
            "Based on the Image in Sign Language\n",
            "The predicted letter is: e\n",
            "The actual letter is: e\n"
          ]
        }
      ],
      "source": [
        "idx = np.random.randint(len(y_test))                 # Select a random index from the test set.\n",
        "plot_image(x_test[idx].reshape(28, 28))              # Plot the image from the test set at the selected index.\n",
        "\n",
        "pred = model.predict(x_test[idx].reshape(-1, 1))     # Predict the letter by passing the reshaped image through the model.\n",
        "\n",
        "# Print the predicted and actual letters.\n",
        "print('Based on the Image in Sign Language')\n",
        "print(f'The predicted letter is: {alphabet[pred]}')     # Convert the predicted class index to the corresponding letter.\n",
        "print(f'The actual letter is: {alphabet[y_test[idx]]}')  # Convert the actual class index to the corresponding letter."
      ]
    }
  ],
  "metadata": {
    "kernelspec": {
      "display_name": "Python 3 (ipykernel)",
      "language": "python",
      "name": "python3"
    },
    "language_info": {
      "codemirror_mode": {
        "name": "ipython",
        "version": 3
      },
      "file_extension": ".py",
      "mimetype": "text/x-python",
      "name": "python",
      "nbconvert_exporter": "python",
      "pygments_lexer": "ipython3",
      "version": "3.9.0"
    },
    "toc": {
      "base_numbering": 1,
      "nav_menu": {},
      "number_sections": true,
      "sideBar": true,
      "skip_h1_title": false,
      "title_cell": "Table of Contents",
      "title_sidebar": "Contents",
      "toc_cell": false,
      "toc_position": {},
      "toc_section_display": true,
      "toc_window_display": false
    },
    "varInspector": {
      "cols": {
        "lenName": 16,
        "lenType": 16,
        "lenVar": 40
      },
      "kernels_config": {
        "python": {
          "delete_cmd_postfix": "",
          "delete_cmd_prefix": "del ",
          "library": "var_list.py",
          "varRefreshCmd": "print(var_dic_list())"
        },
        "r": {
          "delete_cmd_postfix": ") ",
          "delete_cmd_prefix": "rm(",
          "library": "var_list.r",
          "varRefreshCmd": "cat(var_dic_list()) "
        }
      },
      "types_to_exclude": [
        "module",
        "function",
        "builtin_function_or_method",
        "instance",
        "_Feature"
      ],
      "window_display": false
    },
    "colab": {
      "provenance": []
    }
  },
  "nbformat": 4,
  "nbformat_minor": 0
}