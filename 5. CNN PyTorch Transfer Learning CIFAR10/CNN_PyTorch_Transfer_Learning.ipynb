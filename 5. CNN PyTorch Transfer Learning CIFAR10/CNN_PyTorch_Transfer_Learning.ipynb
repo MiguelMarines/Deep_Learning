{
  "cells": [
    {
      "cell_type": "markdown",
      "source": [
        "#**DEEP LEARNING - MIGUEL MARINES**\n",
        "##**<u>Convolutional Neural Networks</u>**\n",
        "---\n",
        "---\n",
        "\n",
        "#### Implementation of Transfer Learning for CIFAR10 Dataset with PyTorch"
      ],
      "metadata": {
        "id": "K8VglwDoJV4e"
      }
    },
    {
      "cell_type": "markdown",
      "source": [
        "### **Environment**"
      ],
      "metadata": {
        "id": "l63F9WqQIXW8"
      }
    },
    {
      "cell_type": "code",
      "source": [
        "# Google Drive in Google Colab.\n",
        "# Access to files and directories stored in Google Drive from a Colab notebook.\n",
        "from google.colab import drive\n",
        "drive.mount('/content/drive')"
      ],
      "metadata": {
        "colab": {
          "base_uri": "https://localhost:8080/"
        },
        "id": "sW1jE--OJP7G",
        "outputId": "94cdb338-4b8f-4514-aa1d-bbbe396aab6e"
      },
      "execution_count": null,
      "outputs": [
        {
          "output_type": "stream",
          "name": "stdout",
          "text": [
            "Mounted at /content/drive\n"
          ]
        }
      ]
    },
    {
      "cell_type": "code",
      "execution_count": null,
      "metadata": {
        "id": "fMlM7vJM8j-T"
      },
      "outputs": [],
      "source": [
        "# Libraries\n",
        "import numpy as np                       # Library for operations with arrays and mathematical functions.\n",
        "\n",
        "import torch                             # Main PyTorch library for creating and working with tensors.\n",
        "import torch.nn as nn                    # PyTorch module for building neural networks.\n",
        "import torch.nn.functional as F          # Provides functions for common operations (like activation functions).\n",
        "\n",
        "from torch.utils.data import DataLoader  # For loading data in batches.\n",
        "from torch.utils.data import sampler     # For sampling from datasets.\n",
        "\n",
        "import torchvision.datasets as datasets  # Datasets for computer vision tasks (e.g., CIFAR-10, MNIST).\n",
        "\n",
        "import torchvision.transforms as T       # Transformations to apply to images (e.g., normalization).\n",
        "\n",
        "from torchvision import models           # Pre-trained models for transfer learning.\n",
        "\n",
        "import matplotlib.pyplot as plt          # Library for data visualization and plotting."
      ]
    },
    {
      "cell_type": "markdown",
      "metadata": {
        "id": "L1RAAYEM8j-W"
      },
      "source": [
        "### **Download Cifar10 Dataset - Training, Validation and Test Data Split**"
      ]
    },
    {
      "cell_type": "markdown",
      "source": [
        "**CIFAR-10 Dataset Processing for Image Classification**\n",
        "\n",
        "This script loads and preprocesses the CIFAR-10 dataset for image classification using PyTorch. It applies transformations to the data to match the input format of a model pretrained on the ImageNet dataset, such as resizing, normalizing, and converting the images into tensors. It also prepares the dataset for training, validation, and testing.\n",
        "\n",
        "**Parameters:**\n",
        "- `DATA_PATH`: The file path to the CIFAR-10 dataset.\n",
        "- `NUM_TRAIN`: Number of samples allocated for training (default: 45,000).\n",
        "- `MINIBATCH_SIZE`: Size of mini-batches used during data loading (default: 64).\n",
        "- `transform_imagenet`: The transformation pipeline that resizes images to 224x224 and applies ImageNet normalization.\n",
        "- `transform_cifar`: The transformation pipeline that normalizes images using CIFAR-10 statistics.\n",
        "\n",
        "**Process:**\n",
        "1. Define the path to the CIFAR-10 dataset.\n",
        "2. Set the number of training samples and the mini-batch size.\n",
        "3. Define two transformation pipelines:\n",
        "   - One for ImageNet-pretrained models (resize, tensor conversion, and normalization).\n",
        "   - One using CIFAR-10 statistics (tensor conversion and normalization).\n",
        "4. Load the CIFAR-10 dataset with transformations:\n",
        "   - Use ImageNet transformations for all training, validation, and test data.\n",
        "   - Load data into PyTorch `DataLoader` objects for easy access in mini-batches.\n",
        "5. Use random samplers to split the dataset into training, validation, and test sets:\n",
        "   - Training data: 45,000 samples.\n",
        "   - Validation data: The remaining 5,000 samples.\n",
        "   - Test data: Separate CIFAR-10 test set.\n",
        "6. Validation Loop:\n",
        "   - A loop is provided to iterate through the validation set and print the batch index, shape of the input data (images), and shape of the labels. This helps ensure that the data is being correctly processed before model evaluation.\n",
        "\n",
        "\n",
        "---\n",
        "**Justification:**\n",
        "This script ensures the CIFAR-10 dataset is correctly preprocessed for training a model that is pretrained on ImageNet. The transformations are key to adapting the CIFAR-10 dataset to the expected input format of these models. The split between training, validation, and test sets allows for unbiased model evaluation, while the `DataLoader` objects provide efficient batch processing for training and evaluation.\n"
      ],
      "metadata": {
        "id": "AjN3NoRaSpbh"
      }
    },
    {
      "cell_type": "code",
      "execution_count": null,
      "metadata": {
        "colab": {
          "base_uri": "https://localhost:8080/"
        },
        "id": "-FMU90hd8j-X",
        "outputId": "885b5b56-2b7d-4d85-9a1a-e9922130aee3"
      },
      "outputs": [
        {
          "output_type": "stream",
          "name": "stdout",
          "text": [
            "Files already downloaded and verified\n",
            "Files already downloaded and verified\n",
            "Files already downloaded and verified\n"
          ]
        }
      ],
      "source": [
        "# Path to the CIFAR-10 dataset.\n",
        "DATA_PATH = '/content/drive/MyDrive/AMLM/Actividad 2/cifar-10-batches-py'\n",
        "\n",
        "NUM_TRAIN = 45000            # Number of samples used for training.\n",
        "MINIBATCH_SIZE = 64          # Size of each mini-batch for training.\n",
        "\n",
        "# Transformation pipeline for the ImageNet-pretrained model (resize, convert to tensor, and normalize).\n",
        "transform_imagenet = T.Compose([\n",
        "    T.Resize(224),                                               # Resize images to 224x224 (required for pretrained models like ResNet).\n",
        "    T.ToTensor(),                                                # Convert images to PyTorch tensors.\n",
        "    T.Normalize((0.485, 0.456, 0.406), (0.229, 0.224, 0.225))    # Normalize using ImageNet statistics.\n",
        "])\n",
        "\n",
        "# Transformation pipeline for CIFAR-10 dataset (convert to tensor and normalize).\n",
        "transform_cifar = T.Compose([\n",
        "    T.ToTensor(),                                                # Convert images to PyTorch tensors.\n",
        "    T.Normalize([0.491, 0.482, 0.447], [0.247, 0.243, 0.261])    # Normalize using CIFAR-10 dataset statistics.\n",
        "])\n",
        "\n",
        "# Training set loader for CIFAR-10 using ImageNet transformations.\n",
        "# Load training data.\n",
        "cifar10_train = datasets.CIFAR10(DATA_PATH, train=True, download=True, transform=transform_imagenet)\n",
        "# DataLoader with random sampling.\n",
        "train_loader = DataLoader(cifar10_train, batch_size=MINIBATCH_SIZE, sampler=sampler.SubsetRandomSampler(range(NUM_TRAIN)))\n",
        "\n",
        "# Validation set loader for CIFAR-10 using ImageNet transformations.\n",
        "# Load validation data.\n",
        "cifar10_val = datasets.CIFAR10(DATA_PATH, train=True, download=True, transform=transform_imagenet)\n",
        "# DataLoader for validation.\n",
        "val_loader = DataLoader(cifar10_val, batch_size=MINIBATCH_SIZE, sampler=sampler.SubsetRandomSampler(range(NUM_TRAIN, len(cifar10_val))))\n",
        "\n",
        "# Test set loader for CIFAR-10 using ImageNet transformations.\n",
        " # Load test data.\n",
        "cifar10_test = datasets.CIFAR10(DATA_PATH, train=False, download=True, transform=transform_imagenet)\n",
        "# DataLoader for testing.\n",
        "test_loader = DataLoader(cifar10_test, batch_size=MINIBATCH_SIZE)"
      ]
    },
    {
      "cell_type": "code",
      "execution_count": null,
      "metadata": {
        "colab": {
          "base_uri": "https://localhost:8080/"
        },
        "id": "GLtHA7E08j-d",
        "outputId": "ea71b4f2-d65e-4cd4-bcf0-a7cc1b50f99a"
      },
      "outputs": [
        {
          "output_type": "stream",
          "name": "stdout",
          "text": [
            "0 torch.Size([64, 3, 224, 224]) torch.Size([64])\n",
            "1 torch.Size([64, 3, 224, 224]) torch.Size([64])\n",
            "2 torch.Size([64, 3, 224, 224]) torch.Size([64])\n",
            "3 torch.Size([64, 3, 224, 224]) torch.Size([64])\n",
            "4 torch.Size([64, 3, 224, 224]) torch.Size([64])\n",
            "5 torch.Size([64, 3, 224, 224]) torch.Size([64])\n",
            "6 torch.Size([64, 3, 224, 224]) torch.Size([64])\n",
            "7 torch.Size([64, 3, 224, 224]) torch.Size([64])\n",
            "8 torch.Size([64, 3, 224, 224]) torch.Size([64])\n",
            "9 torch.Size([64, 3, 224, 224]) torch.Size([64])\n",
            "10 torch.Size([64, 3, 224, 224]) torch.Size([64])\n",
            "11 torch.Size([64, 3, 224, 224]) torch.Size([64])\n",
            "12 torch.Size([64, 3, 224, 224]) torch.Size([64])\n",
            "13 torch.Size([64, 3, 224, 224]) torch.Size([64])\n",
            "14 torch.Size([64, 3, 224, 224]) torch.Size([64])\n",
            "15 torch.Size([64, 3, 224, 224]) torch.Size([64])\n",
            "16 torch.Size([64, 3, 224, 224]) torch.Size([64])\n",
            "17 torch.Size([64, 3, 224, 224]) torch.Size([64])\n",
            "18 torch.Size([64, 3, 224, 224]) torch.Size([64])\n",
            "19 torch.Size([64, 3, 224, 224]) torch.Size([64])\n",
            "20 torch.Size([64, 3, 224, 224]) torch.Size([64])\n",
            "21 torch.Size([64, 3, 224, 224]) torch.Size([64])\n",
            "22 torch.Size([64, 3, 224, 224]) torch.Size([64])\n",
            "23 torch.Size([64, 3, 224, 224]) torch.Size([64])\n",
            "24 torch.Size([64, 3, 224, 224]) torch.Size([64])\n",
            "25 torch.Size([64, 3, 224, 224]) torch.Size([64])\n",
            "26 torch.Size([64, 3, 224, 224]) torch.Size([64])\n",
            "27 torch.Size([64, 3, 224, 224]) torch.Size([64])\n",
            "28 torch.Size([64, 3, 224, 224]) torch.Size([64])\n",
            "29 torch.Size([64, 3, 224, 224]) torch.Size([64])\n",
            "30 torch.Size([64, 3, 224, 224]) torch.Size([64])\n",
            "31 torch.Size([64, 3, 224, 224]) torch.Size([64])\n",
            "32 torch.Size([64, 3, 224, 224]) torch.Size([64])\n",
            "33 torch.Size([64, 3, 224, 224]) torch.Size([64])\n",
            "34 torch.Size([64, 3, 224, 224]) torch.Size([64])\n",
            "35 torch.Size([64, 3, 224, 224]) torch.Size([64])\n",
            "36 torch.Size([64, 3, 224, 224]) torch.Size([64])\n",
            "37 torch.Size([64, 3, 224, 224]) torch.Size([64])\n",
            "38 torch.Size([64, 3, 224, 224]) torch.Size([64])\n",
            "39 torch.Size([64, 3, 224, 224]) torch.Size([64])\n",
            "40 torch.Size([64, 3, 224, 224]) torch.Size([64])\n",
            "41 torch.Size([64, 3, 224, 224]) torch.Size([64])\n",
            "42 torch.Size([64, 3, 224, 224]) torch.Size([64])\n",
            "43 torch.Size([64, 3, 224, 224]) torch.Size([64])\n",
            "44 torch.Size([64, 3, 224, 224]) torch.Size([64])\n",
            "45 torch.Size([64, 3, 224, 224]) torch.Size([64])\n",
            "46 torch.Size([64, 3, 224, 224]) torch.Size([64])\n",
            "47 torch.Size([64, 3, 224, 224]) torch.Size([64])\n",
            "48 torch.Size([64, 3, 224, 224]) torch.Size([64])\n",
            "49 torch.Size([64, 3, 224, 224]) torch.Size([64])\n",
            "50 torch.Size([64, 3, 224, 224]) torch.Size([64])\n",
            "51 torch.Size([64, 3, 224, 224]) torch.Size([64])\n",
            "52 torch.Size([64, 3, 224, 224]) torch.Size([64])\n",
            "53 torch.Size([64, 3, 224, 224]) torch.Size([64])\n",
            "54 torch.Size([64, 3, 224, 224]) torch.Size([64])\n",
            "55 torch.Size([64, 3, 224, 224]) torch.Size([64])\n",
            "56 torch.Size([64, 3, 224, 224]) torch.Size([64])\n",
            "57 torch.Size([64, 3, 224, 224]) torch.Size([64])\n",
            "58 torch.Size([64, 3, 224, 224]) torch.Size([64])\n",
            "59 torch.Size([64, 3, 224, 224]) torch.Size([64])\n",
            "60 torch.Size([64, 3, 224, 224]) torch.Size([64])\n",
            "61 torch.Size([64, 3, 224, 224]) torch.Size([64])\n",
            "62 torch.Size([64, 3, 224, 224]) torch.Size([64])\n",
            "63 torch.Size([64, 3, 224, 224]) torch.Size([64])\n",
            "64 torch.Size([64, 3, 224, 224]) torch.Size([64])\n",
            "65 torch.Size([64, 3, 224, 224]) torch.Size([64])\n",
            "66 torch.Size([64, 3, 224, 224]) torch.Size([64])\n",
            "67 torch.Size([64, 3, 224, 224]) torch.Size([64])\n",
            "68 torch.Size([64, 3, 224, 224]) torch.Size([64])\n",
            "69 torch.Size([64, 3, 224, 224]) torch.Size([64])\n",
            "70 torch.Size([64, 3, 224, 224]) torch.Size([64])\n",
            "71 torch.Size([64, 3, 224, 224]) torch.Size([64])\n",
            "72 torch.Size([64, 3, 224, 224]) torch.Size([64])\n",
            "73 torch.Size([64, 3, 224, 224]) torch.Size([64])\n",
            "74 torch.Size([64, 3, 224, 224]) torch.Size([64])\n",
            "75 torch.Size([64, 3, 224, 224]) torch.Size([64])\n",
            "76 torch.Size([64, 3, 224, 224]) torch.Size([64])\n",
            "77 torch.Size([64, 3, 224, 224]) torch.Size([64])\n",
            "78 torch.Size([8, 3, 224, 224]) torch.Size([8])\n"
          ]
        }
      ],
      "source": [
        "# Loop through the validation set loader.\n",
        "for i, (x, y) in enumerate(val_loader):\n",
        "    # Print the batch index (i), the shape of the input data (x), and the shape of the labels (y).\n",
        "    print(i, x.shape, y.shape)"
      ]
    },
    {
      "cell_type": "markdown",
      "source": [
        "### **Selecting Device: GPU or CPU**\n",
        "\n",
        "In this section, the code determines whether to use a GPU (if available) or default to the CPU for computations. This is crucial for optimizing the speed of training and inference, especially when dealing with deep learning models.\n",
        "\n",
        "- **`torch.cuda.is_available()`**: This function checks the system for an available CUDA-enabled GPU. If found, it sets the device to GPU, allowing for faster operations compared to the CPU.\n",
        "- **`torch.device('cuda')`**: This specifies that computations will be performed on the GPU.\n",
        "- **`torch.device('cpu')`**: If no GPU is detected, the computation defaults to the CPU.\n",
        "- The selected device (CPU or GPU) is printed to confirm which hardware is being used for the model training and evaluation.\n"
      ],
      "metadata": {
        "id": "RytHIjRPUzJH"
      }
    },
    {
      "cell_type": "code",
      "source": [
        "# Check if a GPU (CUDA) is available, otherwise use CPU.\n",
        "if torch.cuda.is_available():\n",
        "    device = torch.device('cuda')   # Set device to GPU.\n",
        "else:\n",
        "    device = torch.device('cpu')    # Set device to CPU.\n",
        "\n",
        "print(device)   # Print the selected device (CPU or GPU)."
      ],
      "metadata": {
        "colab": {
          "base_uri": "https://localhost:8080/"
        },
        "id": "iNF5NRgpLUM_",
        "outputId": "687cbb20-86ad-47c4-d62b-14d521b35772"
      },
      "execution_count": null,
      "outputs": [
        {
          "output_type": "stream",
          "name": "stdout",
          "text": [
            "cuda\n"
          ]
        }
      ]
    },
    {
      "cell_type": "markdown",
      "source": [
        "### **Plotting an Image Sample**\n",
        "\n",
        "This section describes the process of visualizing a randomly selected image from the test dataset. This is helpful for inspecting the images and verifying their associated labels.\n",
        "\n",
        "- **`plot_figure(image)`**: A function that takes a tensor image as input, rearranges its dimensions to match the format expected by `matplotlib` (channels-last), and displays the image without axis labels or ticks.\n",
        "- **Class Labels**: A list of labels corresponding to the classes in the CIFAR-10 dataset (e.g., 'Plane', 'Car', 'Bird', etc.). These labels are used to interpret the predictions of the model.\n",
        "- **Random Sample Selection**: A random index is selected from the test dataset, and the corresponding image and label are retrieved.\n",
        "- **Normalization for Display**: The selected image is normalized by rescaling its pixel values to the [0, 1] range. This ensures the image can be properly visualized by a plotting tool like `matplotlib`.\n",
        "- **Display the Image**: The normalized image is plotted, allowing for a visual inspection of the sample, along with its predicted or actual class label."
      ],
      "metadata": {
        "id": "R0LaPyD0Uz89"
      }
    },
    {
      "cell_type": "code",
      "source": [
        "# Function to plot a given image.\n",
        "def plot_figure(image):\n",
        "    plt.imshow(image.permute(1, 2, 0))    # Rearrange the dimensions of the image (channels last) for display.\n",
        "    plt.axis('off')                       # Remove axis labels and ticks.\n",
        "    plt.show()                            # Display the image."
      ],
      "metadata": {
        "id": "ErVDOolFLmoX"
      },
      "execution_count": null,
      "outputs": []
    },
    {
      "cell_type": "code",
      "execution_count": null,
      "metadata": {
        "colab": {
          "base_uri": "https://localhost:8080/",
          "height": 423
        },
        "id": "0uHbRYHk8j-o",
        "outputId": "2dbe20cc-4eee-48b0-d40f-ced9a085b83f"
      },
      "outputs": [
        {
          "output_type": "stream",
          "name": "stdout",
          "text": [
            "The image shown represents a: Ship\n"
          ]
        },
        {
          "output_type": "display_data",
          "data": {
            "text/plain": [
              "<Figure size 640x480 with 1 Axes>"
            ],
            "image/png": "[encoded data removed]"
          },
          "metadata": {}
        }
      ],
      "source": [
        "# List of class labels from the test dataset.\n",
        "classes = ['Plane', 'Car', 'Bird', 'Cat', 'Deer','Dog', 'Frog', 'Horse', 'Ship', 'Truck']\n",
        "\n",
        "# Select a random index from the test dataset.\n",
        "rnd_sample_idx = np.random.randint(len(test_loader))\n",
        "\n",
        "# Print the class label of the randomly selected image.\n",
        "print(f'The image shown represents a: {classes[test_loader.dataset[rnd_sample_idx][1]]}')\n",
        "\n",
        "# Get the image corresponding to the random index.\n",
        "image = test_loader.dataset[rnd_sample_idx][0]\n",
        "\n",
        "# Normalize the image for display purposes (rescale pixel values to [0, 1]).\n",
        "image = (image - image.min()) / (image.max() -image.min() )\n",
        "\n",
        "# Plot the normalized image using the plot_figure function.\n",
        "plot_figure(image)"
      ]
    },
    {
      "cell_type": "markdown",
      "metadata": {
        "id": "6eObNswA8j-o"
      },
      "source": [
        "### **Accuracy Calculation**\n",
        "\n",
        "This section describes the process of calculating the accuracy of a model on a given dataset. The accuracy metric is important for evaluating how well the model performs on the validation or test dataset.\n",
        "\n",
        "- **Evaluation Mode**: The model is set to evaluation mode using `model.eval()`. This disables certain features like dropout, ensuring consistent behavior during inference.\n",
        "- **Device Assignment**: The model and data are moved to the specified device (CPU or GPU) to take advantage of the available hardware.\n",
        "- **Disabling Gradients**: The `torch.no_grad()` context is used to prevent gradient calculations during evaluation, speeding up inference and reducing memory usage.\n",
        "- **Batch Processing**: The input data (`xi`) and labels (`yi`) are loaded in batches from the dataset and moved to the device. The model then makes predictions (scores) for each batch.\n",
        "- **Prediction**: For each batch, the model’s scores are used to determine the predicted class with the highest probability. The predictions are compared with the true labels to count the number of correct predictions.\n",
        "- **Accuracy Calculation**: The total number of correct predictions is divided by the total number of samples to compute the accuracy as a percentage.\n"
      ]
    },
    {
      "cell_type": "code",
      "source": [
        "# Function to calculate the accuracy of a model on a given dataset (loader).\n",
        "def accuracy(model, loader):\n",
        "\n",
        "  num_correct = 0    # Initialize a counter for correctly predicted samples.\n",
        "  num_total = 0      # Initialize a counter for total samples.\n",
        "  model.eval()       # Set the model to evaluation mode (disables dropout, etc.).\n",
        "\n",
        "  model = model.to(device=device)  # Move the model to the specified device (CPU or GPU).\n",
        "\n",
        "  with torch.no_grad():                                # Disable gradient calculation for faster inference.\n",
        "\n",
        "    for xi, yi in loader:                              # Loop through the data in the loader.\n",
        "      xi = xi.to(device=device, dtype=torch.float32)   # Move input data to the device and convert to float32.\n",
        "      yi = yi.to(device=device, dtype=torch.long)      # Move target labels to the device and convert to long.\n",
        "\n",
        "      scores = model(xi)                               # Get the model's predictions (scores) for the input data.\n",
        "      _, pred = scores.max(dim=1)                      # Get the predicted class with the highest score.\n",
        "\n",
        "      num_correct += (pred == yi).sum()                # Count the number of correct predictions.\n",
        "      num_total += pred.size(0)                        # Count the total number of samples.\n",
        "\n",
        "  return float(num_correct) / num_total                # Return the accuracy as a percentage."
      ],
      "metadata": {
        "id": "fmscQFivO4VQ"
      },
      "execution_count": null,
      "outputs": []
    },
    {
      "cell_type": "markdown",
      "source": [
        "### **Training Process**\n",
        "\n",
        "This section outlines the procedure for training a model over a specified number of epochs. The training function updates the model’s weights based on the input data and optimizes the performance through backpropagation.\n",
        "\n",
        "- **Device Assignment**: The model is moved to the device (CPU or GPU) to utilize the available hardware for faster computation.\n",
        "- **Epoch Loop**: The model is trained for a specified number of epochs. In each epoch, the training dataset is processed in mini-batches.\n",
        "- **Training Mode**: The model is set to training mode using `model.train()`, enabling features like dropout and batch normalization, which are necessary for regularization during training.\n",
        "- **Batch Processing**: Each mini-batch of data (`xi`) and corresponding labels (`yi`) are moved to the device. The model computes predictions (scores) for each batch.\n",
        "- **Loss Calculation**: The cross-entropy loss function is used to calculate the difference between the predicted scores and the true labels. This loss is then used to update the model.\n",
        "- **Backpropagation**: After computing the loss, gradients are backpropagated through the network. The optimizer updates the model's weights based on the computed gradients.\n",
        "- **Validation Accuracy**: After each epoch, the accuracy of the model is evaluated on the validation dataset using the accuracy function, and the results (epoch, cost, and accuracy) are printed.\n",
        "\n",
        "This training loop ensures that the model learns from the training data and improves its performance over time while monitoring its generalization ability on the validation dataset."
      ],
      "metadata": {
        "id": "r6DpP4eI5UG_"
      }
    },
    {
      "cell_type": "code",
      "source": [
        "# Function to train a model for a specified number of epochs.\n",
        "def train(model, optimiser, epochs):\n",
        "\n",
        "  model = model.to(device=device)  # Move the model to the specified device (CPU or GPU).\n",
        "\n",
        "  # Loop through the specified number of epochs.\n",
        "  for epoch in range(epochs):\n",
        "\n",
        "    # Loop through batches in the training DataLoader.\n",
        "    for i, (xi, yi) in enumerate(train_loader):\n",
        "\n",
        "      model.train()                                    # Set the model to training mode (enables dropout, batchnorm, etc.).\n",
        "\n",
        "      xi = xi.to(device=device, dtype=torch.float32)   # Move input data to the device and convert to float32.\n",
        "      yi = yi.to(device=device, dtype=torch.long)      # Move target labels to the device and convert to long.\n",
        "\n",
        "      scores = model(xi)                               # Get the model's predictions (scores) for the input data.\n",
        "      cost = F.cross_entropy(input=scores, target=yi)  # Compute the cross-entropy loss.\n",
        "\n",
        "      optimiser.zero_grad()                            # Clear previous gradients before backpropagation.\n",
        "      cost.backward()                                  # Backpropagate the gradients.\n",
        "      optimiser.step()                                 # Update the model's weights.\n",
        "\n",
        "    # Calculate the accuracy of the model on the validation set after each epoch.\n",
        "    acc = accuracy(model, val_loader)\n",
        "\n",
        "    # Print the current epoch, cost (loss), and accuracy on the validation set.\n",
        "    print(f'Epoch: {epoch}, Cost: {cost.item()}, Accuracy: {acc}')"
      ],
      "metadata": {
        "id": "5JAPHqRC5cGM"
      },
      "execution_count": null,
      "outputs": []
    },
    {
      "cell_type": "markdown",
      "metadata": {
        "id": "E4s71i8B8j-p"
      },
      "source": [
        "#### **Transfer Learning with ResNet-18**\n",
        "\n",
        "In this section, we apply Transfer Learning using the ResNet-18 model, which has been pre-trained on the ImageNet dataset. Transfer Learning leverages the knowledge learned from large datasets like ImageNet to improve performance on smaller datasets such as CIFAR-10. Here, we explore the structure of the pre-trained ResNet-18 model, adjust its architecture, and freeze certain layers to prevent them from being updated during training.\n"
      ]
    },
    {
      "cell_type": "markdown",
      "source": [
        "##### **Model Loading**\n",
        "\n",
        "- **ResNet-18 Pre-trained Model**: The ResNet-18 model is loaded with pre-trained weights from the ImageNet dataset. This allows the model to start with knowledge from a large, diverse dataset, which can then be fine-tuned on a smaller dataset like CIFAR-10.\n"
      ],
      "metadata": {
        "id": "mh_Zws8zr7tg"
      }
    },
    {
      "cell_type": "code",
      "execution_count": null,
      "metadata": {
        "id": "vv-SdNiu8j-p",
        "colab": {
          "base_uri": "https://localhost:8080/"
        },
        "outputId": "ca7c1b8e-0bd2-4769-8a13-a88cf4fe5969"
      },
      "outputs": [
        {
          "output_type": "stream",
          "name": "stderr",
          "text": [
            "/usr/local/lib/python3.10/dist-packages/torchvision/models/_utils.py:208: UserWarning: The parameter 'pretrained' is deprecated since 0.13 and may be removed in the future, please use 'weights' instead.\n",
            "  warnings.warn(\n",
            "/usr/local/lib/python3.10/dist-packages/torchvision/models/_utils.py:223: UserWarning: Arguments other than a weight enum or `None` for 'weights' are deprecated since 0.13 and may be removed in the future. The current behavior is equivalent to passing `weights=ResNet18_Weights.IMAGENET1K_V1`. You can also use `weights=ResNet18_Weights.DEFAULT` to get the most up-to-date weights.\n",
            "  warnings.warn(msg)\n",
            "Downloading: \"https://download.pytorch.org/models/resnet18-f37072fd.pth\" to /root/.cache/torch/hub/checkpoints/resnet18-f37072fd.pth\n",
            "100%|██████████| 44.7M/44.7M [00:00<00:00, 73.0MB/s]\n"
          ]
        }
      ],
      "source": [
        "model_resnet18 = models.resnet18(pretrained=True)      # Load the ResNet-18 model pre-trained on ImageNet."
      ]
    },
    {
      "cell_type": "markdown",
      "metadata": {
        "id": "rGQ_Iq3R8j-q"
      },
      "source": [
        "##### **Model Exploration**\n",
        "\n",
        "- **Parameter Exploration**: The code loops through all the parameters (weights and biases) of the ResNet-18 model, printing their index, shape, and whether they require gradient updates.\n",
        "  - This exploration helps to understand the structure of the model and which parts of the network are trainable.\n",
        "  - **`requires_grad`**: A flag that determines whether the parameter will be updated during training. For Transfer Learning, some parameters may be frozen to retain the pre-trained features while only fine-tuning certain layers.\n",
        "  "
      ]
    },
    {
      "cell_type": "code",
      "execution_count": null,
      "metadata": {
        "scrolled": true,
        "colab": {
          "base_uri": "https://localhost:8080/"
        },
        "id": "g83jjqqO8j-q",
        "outputId": "c9194c8a-47f8-486e-9282-e4a9d8d030dd"
      },
      "outputs": [
        {
          "output_type": "stream",
          "name": "stdout",
          "text": [
            "0 torch.Size([64, 3, 7, 7]) True\n",
            "1 torch.Size([64]) True\n",
            "2 torch.Size([64]) True\n",
            "3 torch.Size([64, 64, 3, 3]) True\n",
            "4 torch.Size([64]) True\n",
            "5 torch.Size([64]) True\n",
            "6 torch.Size([64, 64, 3, 3]) True\n",
            "7 torch.Size([64]) True\n",
            "8 torch.Size([64]) True\n",
            "9 torch.Size([64, 64, 3, 3]) True\n",
            "10 torch.Size([64]) True\n",
            "11 torch.Size([64]) True\n",
            "12 torch.Size([64, 64, 3, 3]) True\n",
            "13 torch.Size([64]) True\n",
            "14 torch.Size([64]) True\n",
            "15 torch.Size([128, 64, 3, 3]) True\n",
            "16 torch.Size([128]) True\n",
            "17 torch.Size([128]) True\n",
            "18 torch.Size([128, 128, 3, 3]) True\n",
            "19 torch.Size([128]) True\n",
            "20 torch.Size([128]) True\n",
            "21 torch.Size([128, 64, 1, 1]) True\n",
            "22 torch.Size([128]) True\n",
            "23 torch.Size([128]) True\n",
            "24 torch.Size([128, 128, 3, 3]) True\n",
            "25 torch.Size([128]) True\n",
            "26 torch.Size([128]) True\n",
            "27 torch.Size([128, 128, 3, 3]) True\n",
            "28 torch.Size([128]) True\n",
            "29 torch.Size([128]) True\n",
            "30 torch.Size([256, 128, 3, 3]) True\n",
            "31 torch.Size([256]) True\n",
            "32 torch.Size([256]) True\n",
            "33 torch.Size([256, 256, 3, 3]) True\n",
            "34 torch.Size([256]) True\n",
            "35 torch.Size([256]) True\n",
            "36 torch.Size([256, 128, 1, 1]) True\n",
            "37 torch.Size([256]) True\n",
            "38 torch.Size([256]) True\n",
            "39 torch.Size([256, 256, 3, 3]) True\n",
            "40 torch.Size([256]) True\n",
            "41 torch.Size([256]) True\n",
            "42 torch.Size([256, 256, 3, 3]) True\n",
            "43 torch.Size([256]) True\n",
            "44 torch.Size([256]) True\n",
            "45 torch.Size([512, 256, 3, 3]) True\n",
            "46 torch.Size([512]) True\n",
            "47 torch.Size([512]) True\n",
            "48 torch.Size([512, 512, 3, 3]) True\n",
            "49 torch.Size([512]) True\n",
            "50 torch.Size([512]) True\n",
            "51 torch.Size([512, 256, 1, 1]) True\n",
            "52 torch.Size([512]) True\n",
            "53 torch.Size([512]) True\n",
            "54 torch.Size([512, 512, 3, 3]) True\n",
            "55 torch.Size([512]) True\n",
            "56 torch.Size([512]) True\n",
            "57 torch.Size([512, 512, 3, 3]) True\n",
            "58 torch.Size([512]) True\n",
            "59 torch.Size([512]) True\n",
            "60 torch.Size([1000, 512]) True\n",
            "61 torch.Size([1000]) True\n"
          ]
        }
      ],
      "source": [
        "# Loop through the model's parameters and print their index, shape, and whether they require gradients.\n",
        "for i, w in enumerate(model_resnet18.parameters()):\n",
        "    print(i, w.shape, w.requires_grad)"
      ]
    },
    {
      "cell_type": "code",
      "execution_count": null,
      "metadata": {
        "scrolled": true,
        "colab": {
          "base_uri": "https://localhost:8080/"
        },
        "id": "JKV_kInm8j-q",
        "outputId": "631283af-6719-4b36-af15-5fe158173477"
      },
      "outputs": [
        {
          "output_type": "execute_result",
          "data": {
            "text/plain": [
              "ResNet(\n",
              "  (conv1): Conv2d(3, 64, kernel_size=(7, 7), stride=(2, 2), padding=(3, 3), bias=False)\n",
              "  (bn1): BatchNorm2d(64, eps=1e-05, momentum=0.1, affine=True, track_running_stats=True)\n",
              "  (relu): ReLU(inplace=True)\n",
              "  (maxpool): MaxPool2d(kernel_size=3, stride=2, padding=1, dilation=1, ceil_mode=False)\n",
              "  (layer1): Sequential(\n",
              "    (0): BasicBlock(\n",
              "      (conv1): Conv2d(64, 64, kernel_size=(3, 3), stride=(1, 1), padding=(1, 1), bias=False)\n",
              "      (bn1): BatchNorm2d(64, eps=1e-05, momentum=0.1, affine=True, track_running_stats=True)\n",
              "      (relu): ReLU(inplace=True)\n",
              "      (conv2): Conv2d(64, 64, kernel_size=(3, 3), stride=(1, 1), padding=(1, 1), bias=False)\n",
              "      (bn2): BatchNorm2d(64, eps=1e-05, momentum=0.1, affine=True, track_running_stats=True)\n",
              "    )\n",
              "    (1): BasicBlock(\n",
              "      (conv1): Conv2d(64, 64, kernel_size=(3, 3), stride=(1, 1), padding=(1, 1), bias=False)\n",
              "      (bn1): BatchNorm2d(64, eps=1e-05, momentum=0.1, affine=True, track_running_stats=True)\n",
              "      (relu): ReLU(inplace=True)\n",
              "      (conv2): Conv2d(64, 64, kernel_size=(3, 3), stride=(1, 1), padding=(1, 1), bias=False)\n",
              "      (bn2): BatchNorm2d(64, eps=1e-05, momentum=0.1, affine=True, track_running_stats=True)\n",
              "    )\n",
              "  )\n",
              "  (layer2): Sequential(\n",
              "    (0): BasicBlock(\n",
              "      (conv1): Conv2d(64, 128, kernel_size=(3, 3), stride=(2, 2), padding=(1, 1), bias=False)\n",
              "      (bn1): BatchNorm2d(128, eps=1e-05, momentum=0.1, affine=True, track_running_stats=True)\n",
              "      (relu): ReLU(inplace=True)\n",
              "      (conv2): Conv2d(128, 128, kernel_size=(3, 3), stride=(1, 1), padding=(1, 1), bias=False)\n",
              "      (bn2): BatchNorm2d(128, eps=1e-05, momentum=0.1, affine=True, track_running_stats=True)\n",
              "      (downsample): Sequential(\n",
              "        (0): Conv2d(64, 128, kernel_size=(1, 1), stride=(2, 2), bias=False)\n",
              "        (1): BatchNorm2d(128, eps=1e-05, momentum=0.1, affine=True, track_running_stats=True)\n",
              "      )\n",
              "    )\n",
              "    (1): BasicBlock(\n",
              "      (conv1): Conv2d(128, 128, kernel_size=(3, 3), stride=(1, 1), padding=(1, 1), bias=False)\n",
              "      (bn1): BatchNorm2d(128, eps=1e-05, momentum=0.1, affine=True, track_running_stats=True)\n",
              "      (relu): ReLU(inplace=True)\n",
              "      (conv2): Conv2d(128, 128, kernel_size=(3, 3), stride=(1, 1), padding=(1, 1), bias=False)\n",
              "      (bn2): BatchNorm2d(128, eps=1e-05, momentum=0.1, affine=True, track_running_stats=True)\n",
              "    )\n",
              "  )\n",
              "  (layer3): Sequential(\n",
              "    (0): BasicBlock(\n",
              "      (conv1): Conv2d(128, 256, kernel_size=(3, 3), stride=(2, 2), padding=(1, 1), bias=False)\n",
              "      (bn1): BatchNorm2d(256, eps=1e-05, momentum=0.1, affine=True, track_running_stats=True)\n",
              "      (relu): ReLU(inplace=True)\n",
              "      (conv2): Conv2d(256, 256, kernel_size=(3, 3), stride=(1, 1), padding=(1, 1), bias=False)\n",
              "      (bn2): BatchNorm2d(256, eps=1e-05, momentum=0.1, affine=True, track_running_stats=True)\n",
              "      (downsample): Sequential(\n",
              "        (0): Conv2d(128, 256, kernel_size=(1, 1), stride=(2, 2), bias=False)\n",
              "        (1): BatchNorm2d(256, eps=1e-05, momentum=0.1, affine=True, track_running_stats=True)\n",
              "      )\n",
              "    )\n",
              "    (1): BasicBlock(\n",
              "      (conv1): Conv2d(256, 256, kernel_size=(3, 3), stride=(1, 1), padding=(1, 1), bias=False)\n",
              "      (bn1): BatchNorm2d(256, eps=1e-05, momentum=0.1, affine=True, track_running_stats=True)\n",
              "      (relu): ReLU(inplace=True)\n",
              "      (conv2): Conv2d(256, 256, kernel_size=(3, 3), stride=(1, 1), padding=(1, 1), bias=False)\n",
              "      (bn2): BatchNorm2d(256, eps=1e-05, momentum=0.1, affine=True, track_running_stats=True)\n",
              "    )\n",
              "  )\n",
              "  (layer4): Sequential(\n",
              "    (0): BasicBlock(\n",
              "      (conv1): Conv2d(256, 512, kernel_size=(3, 3), stride=(2, 2), padding=(1, 1), bias=False)\n",
              "      (bn1): BatchNorm2d(512, eps=1e-05, momentum=0.1, affine=True, track_running_stats=True)\n",
              "      (relu): ReLU(inplace=True)\n",
              "      (conv2): Conv2d(512, 512, kernel_size=(3, 3), stride=(1, 1), padding=(1, 1), bias=False)\n",
              "      (bn2): BatchNorm2d(512, eps=1e-05, momentum=0.1, affine=True, track_running_stats=True)\n",
              "      (downsample): Sequential(\n",
              "        (0): Conv2d(256, 512, kernel_size=(1, 1), stride=(2, 2), bias=False)\n",
              "        (1): BatchNorm2d(512, eps=1e-05, momentum=0.1, affine=True, track_running_stats=True)\n",
              "      )\n",
              "    )\n",
              "    (1): BasicBlock(\n",
              "      (conv1): Conv2d(512, 512, kernel_size=(3, 3), stride=(1, 1), padding=(1, 1), bias=False)\n",
              "      (bn1): BatchNorm2d(512, eps=1e-05, momentum=0.1, affine=True, track_running_stats=True)\n",
              "      (relu): ReLU(inplace=True)\n",
              "      (conv2): Conv2d(512, 512, kernel_size=(3, 3), stride=(1, 1), padding=(1, 1), bias=False)\n",
              "      (bn2): BatchNorm2d(512, eps=1e-05, momentum=0.1, affine=True, track_running_stats=True)\n",
              "    )\n",
              "  )\n",
              "  (avgpool): AdaptiveAvgPool2d(output_size=(1, 1))\n",
              "  (fc): Linear(in_features=512, out_features=1000, bias=True)\n",
              ")"
            ]
          },
          "metadata": {},
          "execution_count": 12
        }
      ],
      "source": [
        "model_resnet18      # Display the architecture of the ResNet-18 model."
      ]
    },
    {
      "cell_type": "markdown",
      "metadata": {
        "id": "cB-l9kvf8j-q"
      },
      "source": [
        "##### **Adjusting the Model**\n",
        "\n",
        "- **Creating a New Model**: A new model (`model_aux`) is created by sequentially adding all layers (children) of the original ResNet-18 model. This helps in modifying the structure if needed, such as adding or removing layers.\n",
        "  - This approach allows for easy modification of the model’s architecture by manipulating the list of layers.\n",
        "\n",
        "- **Excluding the Fully Connected Layer**: A variant of the model is created by excluding the last layer (typically a fully connected layer) from ResNet-18. This is a common practice in Transfer Learning, as the final layer is often specific to the original dataset (ImageNet with 1000 classes). By removing it, we can replace it with a new output layer that matches the number of classes in the target dataset (CIFAR-10 with 10 classes).\n"
      ]
    },
    {
      "cell_type": "code",
      "execution_count": null,
      "metadata": {
        "colab": {
          "base_uri": "https://localhost:8080/"
        },
        "id": "Ar588unF8j-q",
        "outputId": "b1e6cf8e-8f63-470a-8ba6-ede9b0bdfc45"
      },
      "outputs": [
        {
          "output_type": "execute_result",
          "data": {
            "text/plain": [
              "Sequential(\n",
              "  (0): Conv2d(3, 64, kernel_size=(7, 7), stride=(2, 2), padding=(3, 3), bias=False)\n",
              "  (1): BatchNorm2d(64, eps=1e-05, momentum=0.1, affine=True, track_running_stats=True)\n",
              "  (2): ReLU(inplace=True)\n",
              "  (3): MaxPool2d(kernel_size=3, stride=2, padding=1, dilation=1, ceil_mode=False)\n",
              "  (4): Sequential(\n",
              "    (0): BasicBlock(\n",
              "      (conv1): Conv2d(64, 64, kernel_size=(3, 3), stride=(1, 1), padding=(1, 1), bias=False)\n",
              "      (bn1): BatchNorm2d(64, eps=1e-05, momentum=0.1, affine=True, track_running_stats=True)\n",
              "      (relu): ReLU(inplace=True)\n",
              "      (conv2): Conv2d(64, 64, kernel_size=(3, 3), stride=(1, 1), padding=(1, 1), bias=False)\n",
              "      (bn2): BatchNorm2d(64, eps=1e-05, momentum=0.1, affine=True, track_running_stats=True)\n",
              "    )\n",
              "    (1): BasicBlock(\n",
              "      (conv1): Conv2d(64, 64, kernel_size=(3, 3), stride=(1, 1), padding=(1, 1), bias=False)\n",
              "      (bn1): BatchNorm2d(64, eps=1e-05, momentum=0.1, affine=True, track_running_stats=True)\n",
              "      (relu): ReLU(inplace=True)\n",
              "      (conv2): Conv2d(64, 64, kernel_size=(3, 3), stride=(1, 1), padding=(1, 1), bias=False)\n",
              "      (bn2): BatchNorm2d(64, eps=1e-05, momentum=0.1, affine=True, track_running_stats=True)\n",
              "    )\n",
              "  )\n",
              "  (5): Sequential(\n",
              "    (0): BasicBlock(\n",
              "      (conv1): Conv2d(64, 128, kernel_size=(3, 3), stride=(2, 2), padding=(1, 1), bias=False)\n",
              "      (bn1): BatchNorm2d(128, eps=1e-05, momentum=0.1, affine=True, track_running_stats=True)\n",
              "      (relu): ReLU(inplace=True)\n",
              "      (conv2): Conv2d(128, 128, kernel_size=(3, 3), stride=(1, 1), padding=(1, 1), bias=False)\n",
              "      (bn2): BatchNorm2d(128, eps=1e-05, momentum=0.1, affine=True, track_running_stats=True)\n",
              "      (downsample): Sequential(\n",
              "        (0): Conv2d(64, 128, kernel_size=(1, 1), stride=(2, 2), bias=False)\n",
              "        (1): BatchNorm2d(128, eps=1e-05, momentum=0.1, affine=True, track_running_stats=True)\n",
              "      )\n",
              "    )\n",
              "    (1): BasicBlock(\n",
              "      (conv1): Conv2d(128, 128, kernel_size=(3, 3), stride=(1, 1), padding=(1, 1), bias=False)\n",
              "      (bn1): BatchNorm2d(128, eps=1e-05, momentum=0.1, affine=True, track_running_stats=True)\n",
              "      (relu): ReLU(inplace=True)\n",
              "      (conv2): Conv2d(128, 128, kernel_size=(3, 3), stride=(1, 1), padding=(1, 1), bias=False)\n",
              "      (bn2): BatchNorm2d(128, eps=1e-05, momentum=0.1, affine=True, track_running_stats=True)\n",
              "    )\n",
              "  )\n",
              "  (6): Sequential(\n",
              "    (0): BasicBlock(\n",
              "      (conv1): Conv2d(128, 256, kernel_size=(3, 3), stride=(2, 2), padding=(1, 1), bias=False)\n",
              "      (bn1): BatchNorm2d(256, eps=1e-05, momentum=0.1, affine=True, track_running_stats=True)\n",
              "      (relu): ReLU(inplace=True)\n",
              "      (conv2): Conv2d(256, 256, kernel_size=(3, 3), stride=(1, 1), padding=(1, 1), bias=False)\n",
              "      (bn2): BatchNorm2d(256, eps=1e-05, momentum=0.1, affine=True, track_running_stats=True)\n",
              "      (downsample): Sequential(\n",
              "        (0): Conv2d(128, 256, kernel_size=(1, 1), stride=(2, 2), bias=False)\n",
              "        (1): BatchNorm2d(256, eps=1e-05, momentum=0.1, affine=True, track_running_stats=True)\n",
              "      )\n",
              "    )\n",
              "    (1): BasicBlock(\n",
              "      (conv1): Conv2d(256, 256, kernel_size=(3, 3), stride=(1, 1), padding=(1, 1), bias=False)\n",
              "      (bn1): BatchNorm2d(256, eps=1e-05, momentum=0.1, affine=True, track_running_stats=True)\n",
              "      (relu): ReLU(inplace=True)\n",
              "      (conv2): Conv2d(256, 256, kernel_size=(3, 3), stride=(1, 1), padding=(1, 1), bias=False)\n",
              "      (bn2): BatchNorm2d(256, eps=1e-05, momentum=0.1, affine=True, track_running_stats=True)\n",
              "    )\n",
              "  )\n",
              "  (7): Sequential(\n",
              "    (0): BasicBlock(\n",
              "      (conv1): Conv2d(256, 512, kernel_size=(3, 3), stride=(2, 2), padding=(1, 1), bias=False)\n",
              "      (bn1): BatchNorm2d(512, eps=1e-05, momentum=0.1, affine=True, track_running_stats=True)\n",
              "      (relu): ReLU(inplace=True)\n",
              "      (conv2): Conv2d(512, 512, kernel_size=(3, 3), stride=(1, 1), padding=(1, 1), bias=False)\n",
              "      (bn2): BatchNorm2d(512, eps=1e-05, momentum=0.1, affine=True, track_running_stats=True)\n",
              "      (downsample): Sequential(\n",
              "        (0): Conv2d(256, 512, kernel_size=(1, 1), stride=(2, 2), bias=False)\n",
              "        (1): BatchNorm2d(512, eps=1e-05, momentum=0.1, affine=True, track_running_stats=True)\n",
              "      )\n",
              "    )\n",
              "    (1): BasicBlock(\n",
              "      (conv1): Conv2d(512, 512, kernel_size=(3, 3), stride=(1, 1), padding=(1, 1), bias=False)\n",
              "      (bn1): BatchNorm2d(512, eps=1e-05, momentum=0.1, affine=True, track_running_stats=True)\n",
              "      (relu): ReLU(inplace=True)\n",
              "      (conv2): Conv2d(512, 512, kernel_size=(3, 3), stride=(1, 1), padding=(1, 1), bias=False)\n",
              "      (bn2): BatchNorm2d(512, eps=1e-05, momentum=0.1, affine=True, track_running_stats=True)\n",
              "    )\n",
              "  )\n",
              "  (8): AdaptiveAvgPool2d(output_size=(1, 1))\n",
              "  (9): Linear(in_features=512, out_features=1000, bias=True)\n",
              ")"
            ]
          },
          "metadata": {},
          "execution_count": 13
        }
      ],
      "source": [
        "model_aux = nn.Sequential(*list(model_resnet18.children()))       # Create a new model using all layers (children) from ResNet-18.\n",
        "model_aux                                                         # Display the new model structure."
      ]
    },
    {
      "cell_type": "code",
      "execution_count": null,
      "metadata": {
        "colab": {
          "base_uri": "https://localhost:8080/"
        },
        "id": "-ab4OsBu8j-q",
        "outputId": "2576d2c9-4ea1-4139-bea9-fd6f6d2d9e92"
      },
      "outputs": [
        {
          "output_type": "execute_result",
          "data": {
            "text/plain": [
              "Sequential(\n",
              "  (0): Conv2d(3, 64, kernel_size=(7, 7), stride=(2, 2), padding=(3, 3), bias=False)\n",
              "  (1): BatchNorm2d(64, eps=1e-05, momentum=0.1, affine=True, track_running_stats=True)\n",
              "  (2): ReLU(inplace=True)\n",
              "  (3): MaxPool2d(kernel_size=3, stride=2, padding=1, dilation=1, ceil_mode=False)\n",
              "  (4): Sequential(\n",
              "    (0): BasicBlock(\n",
              "      (conv1): Conv2d(64, 64, kernel_size=(3, 3), stride=(1, 1), padding=(1, 1), bias=False)\n",
              "      (bn1): BatchNorm2d(64, eps=1e-05, momentum=0.1, affine=True, track_running_stats=True)\n",
              "      (relu): ReLU(inplace=True)\n",
              "      (conv2): Conv2d(64, 64, kernel_size=(3, 3), stride=(1, 1), padding=(1, 1), bias=False)\n",
              "      (bn2): BatchNorm2d(64, eps=1e-05, momentum=0.1, affine=True, track_running_stats=True)\n",
              "    )\n",
              "    (1): BasicBlock(\n",
              "      (conv1): Conv2d(64, 64, kernel_size=(3, 3), stride=(1, 1), padding=(1, 1), bias=False)\n",
              "      (bn1): BatchNorm2d(64, eps=1e-05, momentum=0.1, affine=True, track_running_stats=True)\n",
              "      (relu): ReLU(inplace=True)\n",
              "      (conv2): Conv2d(64, 64, kernel_size=(3, 3), stride=(1, 1), padding=(1, 1), bias=False)\n",
              "      (bn2): BatchNorm2d(64, eps=1e-05, momentum=0.1, affine=True, track_running_stats=True)\n",
              "    )\n",
              "  )\n",
              "  (5): Sequential(\n",
              "    (0): BasicBlock(\n",
              "      (conv1): Conv2d(64, 128, kernel_size=(3, 3), stride=(2, 2), padding=(1, 1), bias=False)\n",
              "      (bn1): BatchNorm2d(128, eps=1e-05, momentum=0.1, affine=True, track_running_stats=True)\n",
              "      (relu): ReLU(inplace=True)\n",
              "      (conv2): Conv2d(128, 128, kernel_size=(3, 3), stride=(1, 1), padding=(1, 1), bias=False)\n",
              "      (bn2): BatchNorm2d(128, eps=1e-05, momentum=0.1, affine=True, track_running_stats=True)\n",
              "      (downsample): Sequential(\n",
              "        (0): Conv2d(64, 128, kernel_size=(1, 1), stride=(2, 2), bias=False)\n",
              "        (1): BatchNorm2d(128, eps=1e-05, momentum=0.1, affine=True, track_running_stats=True)\n",
              "      )\n",
              "    )\n",
              "    (1): BasicBlock(\n",
              "      (conv1): Conv2d(128, 128, kernel_size=(3, 3), stride=(1, 1), padding=(1, 1), bias=False)\n",
              "      (bn1): BatchNorm2d(128, eps=1e-05, momentum=0.1, affine=True, track_running_stats=True)\n",
              "      (relu): ReLU(inplace=True)\n",
              "      (conv2): Conv2d(128, 128, kernel_size=(3, 3), stride=(1, 1), padding=(1, 1), bias=False)\n",
              "      (bn2): BatchNorm2d(128, eps=1e-05, momentum=0.1, affine=True, track_running_stats=True)\n",
              "    )\n",
              "  )\n",
              "  (6): Sequential(\n",
              "    (0): BasicBlock(\n",
              "      (conv1): Conv2d(128, 256, kernel_size=(3, 3), stride=(2, 2), padding=(1, 1), bias=False)\n",
              "      (bn1): BatchNorm2d(256, eps=1e-05, momentum=0.1, affine=True, track_running_stats=True)\n",
              "      (relu): ReLU(inplace=True)\n",
              "      (conv2): Conv2d(256, 256, kernel_size=(3, 3), stride=(1, 1), padding=(1, 1), bias=False)\n",
              "      (bn2): BatchNorm2d(256, eps=1e-05, momentum=0.1, affine=True, track_running_stats=True)\n",
              "      (downsample): Sequential(\n",
              "        (0): Conv2d(128, 256, kernel_size=(1, 1), stride=(2, 2), bias=False)\n",
              "        (1): BatchNorm2d(256, eps=1e-05, momentum=0.1, affine=True, track_running_stats=True)\n",
              "      )\n",
              "    )\n",
              "    (1): BasicBlock(\n",
              "      (conv1): Conv2d(256, 256, kernel_size=(3, 3), stride=(1, 1), padding=(1, 1), bias=False)\n",
              "      (bn1): BatchNorm2d(256, eps=1e-05, momentum=0.1, affine=True, track_running_stats=True)\n",
              "      (relu): ReLU(inplace=True)\n",
              "      (conv2): Conv2d(256, 256, kernel_size=(3, 3), stride=(1, 1), padding=(1, 1), bias=False)\n",
              "      (bn2): BatchNorm2d(256, eps=1e-05, momentum=0.1, affine=True, track_running_stats=True)\n",
              "    )\n",
              "  )\n",
              "  (7): Sequential(\n",
              "    (0): BasicBlock(\n",
              "      (conv1): Conv2d(256, 512, kernel_size=(3, 3), stride=(2, 2), padding=(1, 1), bias=False)\n",
              "      (bn1): BatchNorm2d(512, eps=1e-05, momentum=0.1, affine=True, track_running_stats=True)\n",
              "      (relu): ReLU(inplace=True)\n",
              "      (conv2): Conv2d(512, 512, kernel_size=(3, 3), stride=(1, 1), padding=(1, 1), bias=False)\n",
              "      (bn2): BatchNorm2d(512, eps=1e-05, momentum=0.1, affine=True, track_running_stats=True)\n",
              "      (downsample): Sequential(\n",
              "        (0): Conv2d(256, 512, kernel_size=(1, 1), stride=(2, 2), bias=False)\n",
              "        (1): BatchNorm2d(512, eps=1e-05, momentum=0.1, affine=True, track_running_stats=True)\n",
              "      )\n",
              "    )\n",
              "    (1): BasicBlock(\n",
              "      (conv1): Conv2d(512, 512, kernel_size=(3, 3), stride=(1, 1), padding=(1, 1), bias=False)\n",
              "      (bn1): BatchNorm2d(512, eps=1e-05, momentum=0.1, affine=True, track_running_stats=True)\n",
              "      (relu): ReLU(inplace=True)\n",
              "      (conv2): Conv2d(512, 512, kernel_size=(3, 3), stride=(1, 1), padding=(1, 1), bias=False)\n",
              "      (bn2): BatchNorm2d(512, eps=1e-05, momentum=0.1, affine=True, track_running_stats=True)\n",
              "    )\n",
              "  )\n",
              "  (8): AdaptiveAvgPool2d(output_size=(1, 1))\n",
              ")"
            ]
          },
          "metadata": {},
          "execution_count": 14
        }
      ],
      "source": [
        "model_aux = nn.Sequential(*list(model_resnet18.children())[:-1])   # Create another model but exclude the last layer (typically the fully connected layer) of ResNet-18.\n",
        "model_aux                                                          # Display the updated model structure."
      ]
    },
    {
      "cell_type": "markdown",
      "source": [
        "##### **Freezing Layers**\n",
        "\n",
        "- **Freezing Parameters**: The parameters of `model_aux` are frozen by setting `requires_grad = False`. This prevents these layers from being updated during training, thus retaining the pre-trained weights and reducing the computational load.\n",
        "  - Freezing is typically done for the initial layers, which have learned general features (e.g., edges, textures), while the last few layers (which are more task-specific) are fine-tuned on the new dataset.\n",
        "\n",
        "- **Check Frozen Parameters**: After freezing, the code verifies that the `requires_grad` flag for each parameter is set to `False`, ensuring that the layers are indeed frozen and will not be updated during training.\n",
        "\n",
        "  This process allows the model to retain useful features learned from ImageNet, while fine-tuning only the relevant parts for the CIFAR-10 classification task."
      ],
      "metadata": {
        "id": "_xG3VY-SWr68"
      }
    },
    {
      "cell_type": "code",
      "execution_count": null,
      "metadata": {
        "id": "neS8yORd8j-r"
      },
      "outputs": [],
      "source": [
        "# Freeze the parameters (i.e., prevent gradient updates) in model_aux.\n",
        "for i, parameter in enumerate(model_aux.parameters()):\n",
        "    # Set requires_grad to False, so these parameters are not updated during training.\n",
        "    parameter.requires_grad = False"
      ]
    },
    {
      "cell_type": "code",
      "execution_count": null,
      "metadata": {
        "scrolled": true,
        "colab": {
          "base_uri": "https://localhost:8080/"
        },
        "id": "N6fEWrFM8j-r",
        "outputId": "a2716e28-c89c-4231-9887-fd4329e41a5d"
      },
      "outputs": [
        {
          "output_type": "stream",
          "name": "stdout",
          "text": [
            "0 False\n",
            "1 False\n",
            "2 False\n",
            "3 False\n",
            "4 False\n",
            "5 False\n",
            "6 False\n",
            "7 False\n",
            "8 False\n",
            "9 False\n",
            "10 False\n",
            "11 False\n",
            "12 False\n",
            "13 False\n",
            "14 False\n",
            "15 False\n",
            "16 False\n",
            "17 False\n",
            "18 False\n",
            "19 False\n",
            "20 False\n",
            "21 False\n",
            "22 False\n",
            "23 False\n",
            "24 False\n",
            "25 False\n",
            "26 False\n",
            "27 False\n",
            "28 False\n",
            "29 False\n",
            "30 False\n",
            "31 False\n",
            "32 False\n",
            "33 False\n",
            "34 False\n",
            "35 False\n",
            "36 False\n",
            "37 False\n",
            "38 False\n",
            "39 False\n",
            "40 False\n",
            "41 False\n",
            "42 False\n",
            "43 False\n",
            "44 False\n",
            "45 False\n",
            "46 False\n",
            "47 False\n",
            "48 False\n",
            "49 False\n",
            "50 False\n",
            "51 False\n",
            "52 False\n",
            "53 False\n",
            "54 False\n",
            "55 False\n",
            "56 False\n",
            "57 False\n",
            "58 False\n",
            "59 False\n"
          ]
        }
      ],
      "source": [
        "# Print whether each parameter in model_aux requires gradients (is trainable).\n",
        "for i, parameter in enumerate(model_aux.parameters()):\n",
        "    # Output: False for all parameters as they have been frozen.\n",
        "    print(i, parameter.requires_grad)"
      ]
    },
    {
      "cell_type": "markdown",
      "source": [
        "##### **Training and Testing the Model**\n",
        "\n",
        "In this section, we train and evaluate a neural network model built using the pre-trained ResNet-18 layers and a new classification head for CIFAR-10. The model is trained for 15 epochs using the Adam optimizer, and its performance is evaluated on the test dataset.\n"
      ],
      "metadata": {
        "id": "7dWY3MNE6R0Y"
      }
    },
    {
      "cell_type": "markdown",
      "source": [
        "**Model Configuration:**\n",
        "- **Number of Epochs**: The model is trained for 15 epochs, meaning the entire training dataset is passed through the model 15 times.\n",
        "- **Learning Rate**: The learning rate is set to 5e-4, which controls how much the model's weights are updated with each step of the optimizer.\n",
        "- **Model Architecture**: The neural network (`model1`) is a sequential combination of:\n",
        "  - Pre-trained ResNet-18 layers (excluding the final fully connected layer).\n",
        "  - A flattening layer to convert the output of the convolutional layers to a 1D vector.\n",
        "  - A new fully connected layer with 512 input features and 10 output classes (one for each CIFAR-10 class).\n"
      ],
      "metadata": {
        "id": "cNYwCZsYXQqh"
      }
    },
    {
      "cell_type": "code",
      "execution_count": null,
      "metadata": {
        "id": "ex__OFOP8j-s"
      },
      "outputs": [],
      "source": [
        "epochs = 15     # Number of training epochs.\n",
        "lr = 5e-4      # Learning rate for the optimizer.\n",
        "\n",
        "# Define a neural network model (model1) by combining a pre-trained model (model_aux) and a new classification head.\n",
        "model1 = nn.Sequential(\n",
        "    model_aux,                                              # Use the pre-trained ResNet-18 layers (without the final layer).\n",
        "    nn.Flatten(),                                           # Flatten the output from the previous layer (to a 1D vector).\n",
        "    nn.Linear(in_features=512, out_features=10, bias=True)  # New fully connected layer with 512 inputs and 10 output classes.\n",
        ")\n",
        "\n",
        "# Define an Adam optimizer for model1 with the specified learning rate and betas for the momentum terms.\n",
        "optimiser = torch.optim.Adam(model1.parameters(), lr=lr, betas=(0.9, 0.999))"
      ]
    },
    {
      "cell_type": "code",
      "execution_count": null,
      "metadata": {
        "scrolled": true,
        "colab": {
          "base_uri": "https://localhost:8080/"
        },
        "id": "9hz7QN9E8j-t",
        "outputId": "ac94feb5-be75-4988-9b05-ce00a5cb133a"
      },
      "outputs": [
        {
          "output_type": "execute_result",
          "data": {
            "text/plain": [
              "Sequential(\n",
              "  (0): Sequential(\n",
              "    (0): Conv2d(3, 64, kernel_size=(7, 7), stride=(2, 2), padding=(3, 3), bias=False)\n",
              "    (1): BatchNorm2d(64, eps=1e-05, momentum=0.1, affine=True, track_running_stats=True)\n",
              "    (2): ReLU(inplace=True)\n",
              "    (3): MaxPool2d(kernel_size=3, stride=2, padding=1, dilation=1, ceil_mode=False)\n",
              "    (4): Sequential(\n",
              "      (0): BasicBlock(\n",
              "        (conv1): Conv2d(64, 64, kernel_size=(3, 3), stride=(1, 1), padding=(1, 1), bias=False)\n",
              "        (bn1): BatchNorm2d(64, eps=1e-05, momentum=0.1, affine=True, track_running_stats=True)\n",
              "        (relu): ReLU(inplace=True)\n",
              "        (conv2): Conv2d(64, 64, kernel_size=(3, 3), stride=(1, 1), padding=(1, 1), bias=False)\n",
              "        (bn2): BatchNorm2d(64, eps=1e-05, momentum=0.1, affine=True, track_running_stats=True)\n",
              "      )\n",
              "      (1): BasicBlock(\n",
              "        (conv1): Conv2d(64, 64, kernel_size=(3, 3), stride=(1, 1), padding=(1, 1), bias=False)\n",
              "        (bn1): BatchNorm2d(64, eps=1e-05, momentum=0.1, affine=True, track_running_stats=True)\n",
              "        (relu): ReLU(inplace=True)\n",
              "        (conv2): Conv2d(64, 64, kernel_size=(3, 3), stride=(1, 1), padding=(1, 1), bias=False)\n",
              "        (bn2): BatchNorm2d(64, eps=1e-05, momentum=0.1, affine=True, track_running_stats=True)\n",
              "      )\n",
              "    )\n",
              "    (5): Sequential(\n",
              "      (0): BasicBlock(\n",
              "        (conv1): Conv2d(64, 128, kernel_size=(3, 3), stride=(2, 2), padding=(1, 1), bias=False)\n",
              "        (bn1): BatchNorm2d(128, eps=1e-05, momentum=0.1, affine=True, track_running_stats=True)\n",
              "        (relu): ReLU(inplace=True)\n",
              "        (conv2): Conv2d(128, 128, kernel_size=(3, 3), stride=(1, 1), padding=(1, 1), bias=False)\n",
              "        (bn2): BatchNorm2d(128, eps=1e-05, momentum=0.1, affine=True, track_running_stats=True)\n",
              "        (downsample): Sequential(\n",
              "          (0): Conv2d(64, 128, kernel_size=(1, 1), stride=(2, 2), bias=False)\n",
              "          (1): BatchNorm2d(128, eps=1e-05, momentum=0.1, affine=True, track_running_stats=True)\n",
              "        )\n",
              "      )\n",
              "      (1): BasicBlock(\n",
              "        (conv1): Conv2d(128, 128, kernel_size=(3, 3), stride=(1, 1), padding=(1, 1), bias=False)\n",
              "        (bn1): BatchNorm2d(128, eps=1e-05, momentum=0.1, affine=True, track_running_stats=True)\n",
              "        (relu): ReLU(inplace=True)\n",
              "        (conv2): Conv2d(128, 128, kernel_size=(3, 3), stride=(1, 1), padding=(1, 1), bias=False)\n",
              "        (bn2): BatchNorm2d(128, eps=1e-05, momentum=0.1, affine=True, track_running_stats=True)\n",
              "      )\n",
              "    )\n",
              "    (6): Sequential(\n",
              "      (0): BasicBlock(\n",
              "        (conv1): Conv2d(128, 256, kernel_size=(3, 3), stride=(2, 2), padding=(1, 1), bias=False)\n",
              "        (bn1): BatchNorm2d(256, eps=1e-05, momentum=0.1, affine=True, track_running_stats=True)\n",
              "        (relu): ReLU(inplace=True)\n",
              "        (conv2): Conv2d(256, 256, kernel_size=(3, 3), stride=(1, 1), padding=(1, 1), bias=False)\n",
              "        (bn2): BatchNorm2d(256, eps=1e-05, momentum=0.1, affine=True, track_running_stats=True)\n",
              "        (downsample): Sequential(\n",
              "          (0): Conv2d(128, 256, kernel_size=(1, 1), stride=(2, 2), bias=False)\n",
              "          (1): BatchNorm2d(256, eps=1e-05, momentum=0.1, affine=True, track_running_stats=True)\n",
              "        )\n",
              "      )\n",
              "      (1): BasicBlock(\n",
              "        (conv1): Conv2d(256, 256, kernel_size=(3, 3), stride=(1, 1), padding=(1, 1), bias=False)\n",
              "        (bn1): BatchNorm2d(256, eps=1e-05, momentum=0.1, affine=True, track_running_stats=True)\n",
              "        (relu): ReLU(inplace=True)\n",
              "        (conv2): Conv2d(256, 256, kernel_size=(3, 3), stride=(1, 1), padding=(1, 1), bias=False)\n",
              "        (bn2): BatchNorm2d(256, eps=1e-05, momentum=0.1, affine=True, track_running_stats=True)\n",
              "      )\n",
              "    )\n",
              "    (7): Sequential(\n",
              "      (0): BasicBlock(\n",
              "        (conv1): Conv2d(256, 512, kernel_size=(3, 3), stride=(2, 2), padding=(1, 1), bias=False)\n",
              "        (bn1): BatchNorm2d(512, eps=1e-05, momentum=0.1, affine=True, track_running_stats=True)\n",
              "        (relu): ReLU(inplace=True)\n",
              "        (conv2): Conv2d(512, 512, kernel_size=(3, 3), stride=(1, 1), padding=(1, 1), bias=False)\n",
              "        (bn2): BatchNorm2d(512, eps=1e-05, momentum=0.1, affine=True, track_running_stats=True)\n",
              "        (downsample): Sequential(\n",
              "          (0): Conv2d(256, 512, kernel_size=(1, 1), stride=(2, 2), bias=False)\n",
              "          (1): BatchNorm2d(512, eps=1e-05, momentum=0.1, affine=True, track_running_stats=True)\n",
              "        )\n",
              "      )\n",
              "      (1): BasicBlock(\n",
              "        (conv1): Conv2d(512, 512, kernel_size=(3, 3), stride=(1, 1), padding=(1, 1), bias=False)\n",
              "        (bn1): BatchNorm2d(512, eps=1e-05, momentum=0.1, affine=True, track_running_stats=True)\n",
              "        (relu): ReLU(inplace=True)\n",
              "        (conv2): Conv2d(512, 512, kernel_size=(3, 3), stride=(1, 1), padding=(1, 1), bias=False)\n",
              "        (bn2): BatchNorm2d(512, eps=1e-05, momentum=0.1, affine=True, track_running_stats=True)\n",
              "      )\n",
              "    )\n",
              "    (8): AdaptiveAvgPool2d(output_size=(1, 1))\n",
              "  )\n",
              "  (1): Flatten(start_dim=1, end_dim=-1)\n",
              "  (2): Linear(in_features=512, out_features=10, bias=True)\n",
              ")"
            ]
          },
          "metadata": {},
          "execution_count": 18
        }
      ],
      "source": [
        "model1   # Display the model structure."
      ]
    },
    {
      "cell_type": "markdown",
      "source": [
        "\n",
        "**Training Process:**\n",
        "During training, the model optimizes its parameters using the Adam optimizer, and the loss is computed using the cross-entropy loss function. After each epoch, the model's performance is evaluated on the validation set, and the cost (loss) and accuracy are printed.\n"
      ],
      "metadata": {
        "id": "-Z8alalSXXyq"
      }
    },
    {
      "cell_type": "code",
      "execution_count": null,
      "metadata": {
        "colab": {
          "base_uri": "https://localhost:8080/"
        },
        "id": "NoBRsvU_8j-t",
        "outputId": "2f6b87b3-d625-4138-e403-4d22a244492b"
      },
      "outputs": [
        {
          "output_type": "stream",
          "name": "stdout",
          "text": [
            "Epoch: 0, Cost: 0.7784900665283203, Accuracy: 0.7742\n",
            "Epoch: 1, Cost: 1.5438838005065918, Accuracy: 0.7964\n",
            "Epoch: 2, Cost: 0.8378942012786865, Accuracy: 0.8\n",
            "Epoch: 3, Cost: 0.5751156210899353, Accuracy: 0.8074\n",
            "Epoch: 4, Cost: 0.8225732445716858, Accuracy: 0.805\n",
            "Epoch: 5, Cost: 1.0729197263717651, Accuracy: 0.8128\n",
            "Epoch: 6, Cost: 0.8221359252929688, Accuracy: 0.8088\n",
            "Epoch: 7, Cost: 0.6726396083831787, Accuracy: 0.8134\n",
            "Epoch: 8, Cost: 1.3253095149993896, Accuracy: 0.8132\n",
            "Epoch: 9, Cost: 0.43444308638572693, Accuracy: 0.8092\n",
            "Epoch: 10, Cost: 0.9393811225891113, Accuracy: 0.81\n",
            "Epoch: 11, Cost: 0.5050056576728821, Accuracy: 0.8146\n",
            "Epoch: 12, Cost: 0.6206283569335938, Accuracy: 0.8116\n",
            "Epoch: 13, Cost: 1.1415116786956787, Accuracy: 0.8076\n",
            "Epoch: 14, Cost: 0.9156177043914795, Accuracy: 0.818\n"
          ]
        }
      ],
      "source": [
        "train(model1, optimiser, epochs)      # Train the model (model1) using the specified optimizer (optimiser) for the defined number of epochs."
      ]
    },
    {
      "cell_type": "markdown",
      "source": [
        "**Test Accuracy:**\n",
        "After training, the model's performance is evaluated on the test dataset. The model achieved an accuracy of **81.28%** on the test set, indicating its ability to generalize to new, unseen data.\n",
        "\n"
      ],
      "metadata": {
        "id": "ZAQKAs8dXkoD"
      }
    },
    {
      "cell_type": "code",
      "execution_count": null,
      "metadata": {
        "colab": {
          "base_uri": "https://localhost:8080/"
        },
        "id": "UfVjvk1G8j-t",
        "outputId": "8e2119e7-6c32-45fe-8729-fa0c849ffa8e"
      },
      "outputs": [
        {
          "output_type": "execute_result",
          "data": {
            "text/plain": [
              "0.8128"
            ]
          },
          "metadata": {},
          "execution_count": 20
        }
      ],
      "source": [
        "accuracy(model1, test_loader)         # Calculate and return the accuracy of the model on the test dataset (test_loader)."
      ]
    },
    {
      "cell_type": "markdown",
      "source": [
        "**Conclusion:**\n",
        "The model successfully achieved over 81% accuracy on both the validation and test datasets, demonstrating the effectiveness of Transfer Learning with the ResNet-18 architecture for CIFAR-10 classification.\n",
        "\n",
        "\n",
        "\n",
        "\n",
        "\n"
      ],
      "metadata": {
        "id": "QO08azaBXl0b"
      }
    },
    {
      "cell_type": "markdown",
      "source": [
        "#### **Transfer Learning - EfficientNet-B0**\n",
        "\n",
        "In this section, we apply Transfer Learning using the EfficientNet-B0 model, pre-trained on ImageNet. EfficientNet-B0 is known for its efficient use of parameters while achieving high accuracy on image classification tasks.\n",
        "\n",
        "- **Model Loading**: The EfficientNet-B0 model is loaded with pre-trained weights from ImageNet.\n",
        "- **Model Adjustment**: We exclude the final fully connected layer of EfficientNet-B0, as it is specific to ImageNet classification. A new fully connected layer is added to the model to match the number of output classes (10) in CIFAR-10.\n",
        "- **Freezing Layers**: All layers except the newly added classification layer are frozen, meaning their weights will not be updated during training. This allows us to leverage the pre-trained features while fine-tuning the last layer.\n",
        "- **Training**: The model is trained for 15 epochs using the Adam optimizer, with a learning rate of 5e-4.\n",
        "- **Accuracy**: After training, the model is evaluated on the test dataset to determine its performance.\n"
      ],
      "metadata": {
        "id": "4w2iFNx-o0iB"
      }
    },
    {
      "cell_type": "code",
      "source": [
        "# Load the EfficientNet-B0 model pre-trained on ImageNet.\n",
        "model_efficientnet = models.efficientnet_b0(pretrained=True)\n",
        "\n",
        "# Create a new model using all layers (children) from EfficientNet-B0.\n",
        "model_aux = nn.Sequential(*list(model_efficientnet.children()))\n",
        "\n",
        "# Exclude the last layer (typically the fully connected layer) of EfficientNet-B0.\n",
        "model_aux = nn.Sequential(*list(model_efficientnet.children())[:-1])\n",
        "\n",
        "# Freeze the parameters (i.e., prevent gradient updates) in model_aux.\n",
        "for i, parameter in enumerate(model_aux.parameters()):\n",
        "    parameter.requires_grad = False\n",
        "\n",
        "epochs = 15    # Number of training epochs.\n",
        "lr = 5e-4      # Learning rate for the optimizer.\n",
        "\n",
        "# Define a neural network model (model2) by combining the pre-trained EfficientNet-B0 layers and a new classification head.\n",
        "model2 = nn.Sequential(\n",
        "    model_aux,                                              # Use the pre-trained EfficientNet-B0 layers (without the final layer).\n",
        "    nn.Flatten(),                                           # Flatten the output from the previous layer (to a 1D vector).\n",
        "    nn.Linear(in_features=1280, out_features=10, bias=True)  # New fully connected layer with 1280 inputs (EfficientNet-B0 output size) and 10 output classes.\n",
        ")\n",
        "\n",
        "# Define an Adam optimizer for model2 with the specified learning rate and betas for the momentum terms.\n",
        "optimiser = torch.optim.Adam(model2.parameters(), lr=lr, betas=(0.9, 0.999))"
      ],
      "metadata": {
        "id": "lSsE_gkoo096",
        "colab": {
          "base_uri": "https://localhost:8080/"
        },
        "outputId": "d976541f-3c89-4832-919f-3fca889061c5"
      },
      "execution_count": null,
      "outputs": [
        {
          "output_type": "stream",
          "name": "stderr",
          "text": [
            "/usr/local/lib/python3.10/dist-packages/torchvision/models/_utils.py:223: UserWarning: Arguments other than a weight enum or `None` for 'weights' are deprecated since 0.13 and may be removed in the future. The current behavior is equivalent to passing `weights=EfficientNet_B0_Weights.IMAGENET1K_V1`. You can also use `weights=EfficientNet_B0_Weights.DEFAULT` to get the most up-to-date weights.\n",
            "  warnings.warn(msg)\n",
            "Downloading: \"https://download.pytorch.org/models/efficientnet_b0_rwightman-7f5810bc.pth\" to /root/.cache/torch/hub/checkpoints/efficientnet_b0_rwightman-7f5810bc.pth\n",
            "100%|██████████| 20.5M/20.5M [00:00<00:00, 114MB/s] \n"
          ]
        }
      ]
    },
    {
      "cell_type": "code",
      "source": [
        "train(model2, optimiser, epochs)      # Train the model (model1) using the specified optimizer (optimiser) for the defined number of epochs."
      ],
      "metadata": {
        "colab": {
          "base_uri": "https://localhost:8080/"
        },
        "id": "dhKU431HpWfi",
        "outputId": "6672a230-3987-4fa0-f048-4373a0c8c3ec"
      },
      "execution_count": null,
      "outputs": [
        {
          "output_type": "stream",
          "name": "stdout",
          "text": [
            "Epoch: 0, Cost: 1.1129258871078491, Accuracy: 0.7722\n",
            "Epoch: 1, Cost: 1.1795389652252197, Accuracy: 0.7836\n",
            "Epoch: 2, Cost: 0.480552077293396, Accuracy: 0.7942\n",
            "Epoch: 3, Cost: 1.0840790271759033, Accuracy: 0.803\n",
            "Epoch: 4, Cost: 1.0334644317626953, Accuracy: 0.8062\n",
            "Epoch: 5, Cost: 0.6022801399230957, Accuracy: 0.8092\n",
            "Epoch: 6, Cost: 0.4168177843093872, Accuracy: 0.8114\n",
            "Epoch: 7, Cost: 0.8026936650276184, Accuracy: 0.8128\n",
            "Epoch: 8, Cost: 1.3316799402236938, Accuracy: 0.815\n",
            "Epoch: 9, Cost: 0.4368427097797394, Accuracy: 0.8152\n",
            "Epoch: 10, Cost: 1.0874803066253662, Accuracy: 0.8168\n",
            "Epoch: 11, Cost: 0.3914414346218109, Accuracy: 0.8132\n",
            "Epoch: 12, Cost: 1.396146297454834, Accuracy: 0.8128\n",
            "Epoch: 13, Cost: 1.8173128366470337, Accuracy: 0.814\n",
            "Epoch: 14, Cost: 0.6087232232093811, Accuracy: 0.8206\n"
          ]
        }
      ]
    },
    {
      "cell_type": "code",
      "source": [
        "accuracy(model2, test_loader)         # Calculate and return the accuracy of the model on the test dataset (test_loader)."
      ],
      "metadata": {
        "colab": {
          "base_uri": "https://localhost:8080/"
        },
        "id": "d5KrduprpZ1h",
        "outputId": "e3e6644d-6425-4194-baba-129745320f8c"
      },
      "execution_count": null,
      "outputs": [
        {
          "output_type": "execute_result",
          "data": {
            "text/plain": [
              "0.8141"
            ]
          },
          "metadata": {},
          "execution_count": 23
        }
      ]
    },
    {
      "cell_type": "markdown",
      "source": [
        "**Test Accuracy**:\n",
        "After training, the EfficientNet-B0 model achieved an accuracy of **81.41%** on the CIFAR-10 test dataset.\n",
        "\n",
        "---\n",
        "\n",
        "**Conclusion**:\n",
        "EfficientNet-B0, known for its parameter efficiency and high accuracy, performed well in the CIFAR-10 Transfer Learning task. The model reached a test accuracy of **81.41%**, demonstrating that it effectively leveraged pre-trained features from ImageNet and fine-tuned the classification head for the CIFAR-10 dataset.\n",
        "\n",
        "---\n",
        "\n",
        "\n",
        "\n",
        "\n",
        "\n",
        "\n",
        "\n",
        "\n",
        "\n"
      ],
      "metadata": {
        "id": "m4wkdcf9p9uB"
      }
    },
    {
      "cell_type": "markdown",
      "source": [
        "#### **Transfer Learning - AlexNet**\n",
        "\n",
        "In this section, we apply Transfer Learning using the AlexNet model, pre-trained on ImageNet. AlexNet was one of the earliest models to demonstrate the power of deep convolutional neural networks for image classification.\n",
        "\n",
        "- **Model Loading**: The AlexNet model is loaded with pre-trained weights from ImageNet.\n",
        "- **Model Adjustment**: The final classifier layer of AlexNet is removed and replaced with a new fully connected layer for CIFAR-10 classification.\n",
        "- **Freezing Layers**: All layers of the pre-trained AlexNet model are frozen, except for the new classification layer.\n",
        "- **Training**: The model is trained for 15 epochs using the Adam optimizer, with a learning rate of 5e-4.\n",
        "- **Accuracy**: The performance of the model is evaluated on the CIFAR-10 test dataset after training.\n"
      ],
      "metadata": {
        "id": "ExYhA8FlrQcZ"
      }
    },
    {
      "cell_type": "code",
      "source": [
        "# Load the AlexNet model pre-trained on ImageNet.\n",
        "model_alexnet = models.alexnet(pretrained=True)\n",
        "\n",
        "# Create a new model using all layers (children) from AlexNet.\n",
        "model_aux = nn.Sequential(*list(model_alexnet.children()))\n",
        "\n",
        "# Exclude the last layer (typically the classifier) of AlexNet.\n",
        "model_aux = nn.Sequential(*list(model_alexnet.children())[:-1])\n",
        "\n",
        "# Freeze the parameters (i.e., prevent gradient updates) in model_aux.\n",
        "for parameter in model_aux.parameters():\n",
        "    parameter.requires_grad = False\n",
        "\n",
        "epochs = 15    # Number of training epochs.\n",
        "lr = 5e-4      # Learning rate for the optimizer.\n",
        "\n",
        "# Define a neural network model (model3) by combining a pre-trained model (model_aux) and a new classification head.\n",
        "model3 = nn.Sequential(\n",
        "    model_aux,                                              # Use the pre-trained AlexNet layers (without the final classifier layer).\n",
        "    nn.Flatten(),                                           # Flatten the output from the previous layer (to a 1D vector).\n",
        "    nn.Linear(in_features=256 * 6 * 6, out_features=10, bias=True)  # New fully connected layer with 256*6*6 inputs and 10 output classes.\n",
        ")\n",
        "\n",
        "# Define an Adam optimizer for model3 with the specified learning rate and betas for the momentum terms.\n",
        "optimiser = torch.optim.Adam(model3.parameters(), lr=lr, betas=(0.9, 0.999))"
      ],
      "metadata": {
        "id": "sxxNqXhzwACG",
        "colab": {
          "base_uri": "https://localhost:8080/"
        },
        "outputId": "73957e85-48d9-4cdf-bd89-45e1f3d1c411"
      },
      "execution_count": null,
      "outputs": [
        {
          "output_type": "stream",
          "name": "stderr",
          "text": [
            "/usr/local/lib/python3.10/dist-packages/torchvision/models/_utils.py:223: UserWarning: Arguments other than a weight enum or `None` for 'weights' are deprecated since 0.13 and may be removed in the future. The current behavior is equivalent to passing `weights=AlexNet_Weights.IMAGENET1K_V1`. You can also use `weights=AlexNet_Weights.DEFAULT` to get the most up-to-date weights.\n",
            "  warnings.warn(msg)\n",
            "Downloading: \"https://download.pytorch.org/models/alexnet-owt-7be5be79.pth\" to /root/.cache/torch/hub/checkpoints/alexnet-owt-7be5be79.pth\n",
            "100%|██████████| 233M/233M [00:01<00:00, 137MB/s]\n"
          ]
        }
      ]
    },
    {
      "cell_type": "code",
      "source": [
        "train(model3, optimiser, epochs)      # Train the model (model3) using the specified optimizer (optimiser) for the defined number of epochs."
      ],
      "metadata": {
        "colab": {
          "base_uri": "https://localhost:8080/"
        },
        "id": "ZmzvuScAwAbv",
        "outputId": "90529f34-0f91-4153-ac0a-8bdd93d4b723"
      },
      "execution_count": null,
      "outputs": [
        {
          "output_type": "stream",
          "name": "stdout",
          "text": [
            "Epoch: 0, Cost: 1.4409675598144531, Accuracy: 0.8192\n",
            "Epoch: 1, Cost: 0.6755597591400146, Accuracy: 0.8264\n",
            "Epoch: 2, Cost: 0.03591350466012955, Accuracy: 0.828\n",
            "Epoch: 3, Cost: 0.18425603210926056, Accuracy: 0.8394\n",
            "Epoch: 4, Cost: 0.057491593062877655, Accuracy: 0.8288\n",
            "Epoch: 5, Cost: 0.09888209402561188, Accuracy: 0.8354\n",
            "Epoch: 6, Cost: 0.020802684128284454, Accuracy: 0.8328\n",
            "Epoch: 7, Cost: 0.053940776735544205, Accuracy: 0.8294\n",
            "Epoch: 8, Cost: 0.44022971391677856, Accuracy: 0.8166\n",
            "Epoch: 9, Cost: 0.02191956341266632, Accuracy: 0.828\n",
            "Epoch: 10, Cost: 0.009120441041886806, Accuracy: 0.8268\n",
            "Epoch: 11, Cost: 0.05511777475476265, Accuracy: 0.818\n",
            "Epoch: 12, Cost: 0.0919841006398201, Accuracy: 0.8222\n",
            "Epoch: 13, Cost: 0.03141681104898453, Accuracy: 0.8214\n",
            "Epoch: 14, Cost: 0.013617433607578278, Accuracy: 0.8254\n"
          ]
        }
      ]
    },
    {
      "cell_type": "code",
      "source": [
        "accuracy(model3, test_loader)         # Calculate and return the accuracy of the model on the test dataset (test_loader)."
      ],
      "metadata": {
        "colab": {
          "base_uri": "https://localhost:8080/"
        },
        "id": "cgzx5Qp_wAum",
        "outputId": "4dbcb038-9458-4931-de07-52b896c54aa1"
      },
      "execution_count": null,
      "outputs": [
        {
          "output_type": "execute_result",
          "data": {
            "text/plain": [
              "0.8212"
            ]
          },
          "metadata": {},
          "execution_count": 26
        }
      ]
    },
    {
      "cell_type": "markdown",
      "source": [
        "**Test Accuracy**:\n",
        "After training, AlexNet achieved an accuracy of **82.12%** on the CIFAR-10 test dataset.\n",
        "\n",
        "---\n",
        "\n",
        "**Conclusion**:\n",
        "AlexNet, despite being one of the earlier deep learning architectures, performed competitively on the CIFAR-10 dataset with a test accuracy of **82.12%**. This demonstrates the continued relevance of AlexNet, particularly when applied to Transfer Learning tasks, where its pre-trained features are leveraged for new tasks with smaller datasets.\n",
        "\n",
        "---"
      ],
      "metadata": {
        "id": "S52UCUe9qJ-n"
      }
    },
    {
      "cell_type": "markdown",
      "source": [
        "#### **Transfer Learning - ResNet-50**\n",
        "\n",
        "This section covers Transfer Learning using the ResNet-50 model, pre-trained on ImageNet. ResNet-50 uses skip connections to allow deeper networks without the vanishing gradient problem.\n",
        "\n",
        "- **Model Loading**: The ResNet-50 model is loaded with pre-trained weights from ImageNet.\n",
        "- **Model Adjustment**: The last fully connected layer of ResNet-50 is excluded, and a new fully connected layer is added to adapt the model for CIFAR-10 classification.\n",
        "- **Freezing Layers**: Similar to the other models, all layers except the newly added fully connected layer are frozen to retain the pre-trained knowledge.\n",
        "- **Training**: The model is trained for 15 epochs using the Adam optimizer, with a learning rate of 5e-4.\n",
        "- **Accuracy**: The accuracy of the model on the CIFAR-10 test dataset is calculated after training.\n"
      ],
      "metadata": {
        "id": "QjQJpQtyvOdA"
      }
    },
    {
      "cell_type": "code",
      "source": [
        "# Load the ResNet-50 model pre-trained on ImageNet.\n",
        "model_resnet50 = models.resnet50(pretrained=True)\n",
        "\n",
        "# Create a new model using all layers (children) from ResNet-50.\n",
        "model_aux = nn.Sequential(*list(model_resnet50.children()))\n",
        "\n",
        "# Create another model but exclude the last layer (typically the fully connected layer) of ResNet-50.\n",
        "model_aux = nn.Sequential(*list(model_resnet50.children())[:-1])\n",
        "\n",
        "# Freeze the parameters (i.e., prevent gradient updates) in model_aux.\n",
        "for parameter in model_aux.parameters():\n",
        "    # Set requires_grad to False, so these parameters are not updated during training.\n",
        "    parameter.requires_grad = False\n",
        "\n",
        "epochs = 15    # Number of training epochs.\n",
        "lr = 5e-4      # Learning rate for the optimizer.\n",
        "\n",
        "# Define a neural network model (model4) by combining a pre-trained model (model_aux) and a new classification head.\n",
        "model4 = nn.Sequential(\n",
        "    model_aux,                                              # Use the pre-trained ResNet-50 layers (without the final layer).\n",
        "    nn.Flatten(),                                           # Flatten the output from the previous layer (to a 1D vector).\n",
        "    nn.Linear(in_features=2048, out_features=10, bias=True)  # New fully connected layer with 2048 inputs (for ResNet-50) and 10 output classes.\n",
        ")\n",
        "\n",
        "# Define an Adam optimizer for model4 with the specified learning rate and betas for the momentum terms.\n",
        "optimiser = torch.optim.Adam(model4.parameters(), lr=lr, betas=(0.9, 0.999))"
      ],
      "metadata": {
        "id": "3vWkzAotrSB9",
        "colab": {
          "base_uri": "https://localhost:8080/"
        },
        "outputId": "9ba4744e-1a61-47b1-e099-f21c38609273"
      },
      "execution_count": null,
      "outputs": [
        {
          "output_type": "stream",
          "name": "stderr",
          "text": [
            "/usr/local/lib/python3.10/dist-packages/torchvision/models/_utils.py:223: UserWarning: Arguments other than a weight enum or `None` for 'weights' are deprecated since 0.13 and may be removed in the future. The current behavior is equivalent to passing `weights=ResNet50_Weights.IMAGENET1K_V1`. You can also use `weights=ResNet50_Weights.DEFAULT` to get the most up-to-date weights.\n",
            "  warnings.warn(msg)\n",
            "Downloading: \"https://download.pytorch.org/models/resnet50-0676ba61.pth\" to /root/.cache/torch/hub/checkpoints/resnet50-0676ba61.pth\n",
            "100%|██████████| 97.8M/97.8M [00:01<00:00, 98.1MB/s]\n"
          ]
        }
      ]
    },
    {
      "cell_type": "code",
      "source": [
        "train(model4, optimiser, epochs)      # Train the model (model4) using the specified optimizer (optimiser) for the defined number of epochs."
      ],
      "metadata": {
        "colab": {
          "base_uri": "https://localhost:8080/"
        },
        "id": "hjLLTYU2rT0j",
        "outputId": "bcba8e6b-218b-4983-c29e-696f84b45a68"
      },
      "execution_count": null,
      "outputs": [
        {
          "output_type": "stream",
          "name": "stdout",
          "text": [
            "Epoch: 0, Cost: 1.5356121063232422, Accuracy: 0.7952\n",
            "Epoch: 1, Cost: 0.770556628704071, Accuracy: 0.8012\n",
            "Epoch: 2, Cost: 0.609896719455719, Accuracy: 0.8082\n",
            "Epoch: 3, Cost: 1.2372816801071167, Accuracy: 0.8138\n",
            "Epoch: 4, Cost: 0.6473162770271301, Accuracy: 0.8156\n",
            "Epoch: 5, Cost: 0.7719042897224426, Accuracy: 0.816\n",
            "Epoch: 6, Cost: 0.25812268257141113, Accuracy: 0.8006\n",
            "Epoch: 7, Cost: 0.6321560740470886, Accuracy: 0.8256\n",
            "Epoch: 8, Cost: 0.9158092737197876, Accuracy: 0.8186\n",
            "Epoch: 9, Cost: 0.4817400872707367, Accuracy: 0.824\n",
            "Epoch: 10, Cost: 0.400308221578598, Accuracy: 0.8156\n",
            "Epoch: 11, Cost: 0.7929441332817078, Accuracy: 0.8256\n",
            "Epoch: 12, Cost: 0.7259200811386108, Accuracy: 0.8252\n",
            "Epoch: 13, Cost: 0.6239582300186157, Accuracy: 0.8278\n",
            "Epoch: 14, Cost: 0.8233557939529419, Accuracy: 0.8272\n"
          ]
        }
      ]
    },
    {
      "cell_type": "code",
      "source": [
        "accuracy(model4, test_loader)         # Calculate and return the accuracy of the model on the test dataset (test_loader)."
      ],
      "metadata": {
        "colab": {
          "base_uri": "https://localhost:8080/"
        },
        "id": "wMNNeAPorWdb",
        "outputId": "72866fb1-5f5c-4d30-8fba-e55de7cbebcc"
      },
      "execution_count": null,
      "outputs": [
        {
          "output_type": "execute_result",
          "data": {
            "text/plain": [
              "0.8292"
            ]
          },
          "metadata": {},
          "execution_count": 29
        }
      ]
    },
    {
      "cell_type": "markdown",
      "source": [
        "**Test Accuracy**:\n",
        "After training, ResNet-50 achieved an accuracy of **82.92%** on the CIFAR-10 test dataset.\n",
        "\n",
        "---\n",
        "\n",
        "**Conclusion**:\n",
        "ResNet-50 demonstrated strong performance in this Transfer Learning task, achieving one of the highest accuracies across the models tested. Its deep architecture, combined with skip connections, allowed it to effectively generalize to the CIFAR-10 dataset after 15 epochs of fine-tuning. This showcases ResNet-50’s capability to handle image classification tasks with high accuracy even when applied to datasets significantly smaller than ImageNet.\n",
        "\n",
        "---"
      ],
      "metadata": {
        "id": "XI4Hq4w_23XZ"
      }
    },
    {
      "cell_type": "markdown",
      "source": [
        "### **Conclusion of the Transfer Learning Project on CIFAR-10**\n",
        "\n",
        "Throughout this project, we explored the application of Transfer Learning using several pre-trained models—**ResNet-50**, **EfficientNet-B0**, and **AlexNet**—on the CIFAR-10 image classification task. Each of these models was initially pre-trained on the large-scale ImageNet dataset and then fine-tuned to adapt to the 10 classes of the smaller CIFAR-10 dataset.\n",
        "\n",
        "---\n",
        "\n",
        "### **Project Overview**:\n",
        "\n",
        "1. **Pre-trained Model Selection**:\n",
        "   - We selected three diverse models from PyTorch's model zoo: ResNet-50, EfficientNet-B0, and AlexNet. These models span a range of architectures, from deeper and more complex networks (ResNet-50) to more efficient and lightweight designs (EfficientNet-B0), along with the classic architecture of AlexNet.\n",
        "\n",
        "2. **Model Adjustment**:\n",
        "   - For each model, we removed the final fully connected layers (which were specific to ImageNet classification) and replaced them with a new classification head suited for CIFAR-10's 10 output classes.\n",
        "   - The pre-trained weights from ImageNet were retained by freezing all layers except the new classification head, allowing the models to leverage their previously learned features while focusing on adapting to the new dataset.\n",
        "\n",
        "3. **Training and Fine-Tuning**:\n",
        "   - The models were fine-tuned for 15 epochs using the Adam optimizer with a learning rate of 5e-4. This approach helped us achieve significant results with minimal training, thanks to the knowledge retained from the pre-trained weights.\n",
        "\n",
        "4. **Evaluation**:\n",
        "   - After each training cycle, the models were evaluated on the test dataset to assess their performance. We measured accuracy on the test set as the primary metric.\n",
        "\n",
        "---\n",
        "\n",
        "### **Results Summary**:\n",
        "\n",
        "- **ResNet-50**:\n",
        "  - **Test Accuracy**: **82.92%**\n",
        "  - ResNet-50, a deep network with skip connections, performed exceptionally well. Its architecture allowed it to learn complex patterns and generalize effectively to the CIFAR-10 dataset, leading to the highest accuracy among the models tested.\n",
        "\n",
        "- **EfficientNet-B0**:\n",
        "  - **Test Accuracy**: **81.41%**\n",
        "  - EfficientNet-B0's strength lies in its ability to balance accuracy and computational efficiency. It achieved solid performance while maintaining a relatively small parameter count, making it ideal for resource-constrained environments.\n",
        "\n",
        "- **AlexNet**:\n",
        "  - **Test Accuracy**: **82.12%**\n",
        "  - AlexNet, despite being one of the earliest CNN architectures, delivered competitive results. Its performance highlights that older architectures can still be effective when fine-tuned with Transfer Learning on smaller datasets like CIFAR-10.\n",
        "\n",
        "---\n",
        "\n",
        "### **Key Takeaways**:\n",
        "\n",
        "1. **Transfer Learning Efficiency**:\n",
        "   - The use of Transfer Learning significantly reduced training time and computational costs compared to training from scratch. By fine-tuning only the final classification layer, we were able to achieve high performance across all models with just 15 epochs of training.\n",
        "\n",
        "2. **Model Comparison**:\n",
        "   - **ResNet-50**: Its deep architecture and skip connections enabled it to outperform other models, making it an excellent choice for tasks requiring high accuracy and deeper feature extraction.\n",
        "   - **EfficientNet-B0**: Its lightweight design coupled with strong accuracy makes it highly suitable for scenarios where computational efficiency is crucial.\n",
        "   - **AlexNet**: Even though it is an older model, AlexNet’s competitive performance demonstrates that early architectures can still be powerful when combined with Transfer Learning.\n",
        "\n",
        "3. **Freezing Layers**:\n",
        "   - Freezing the majority of the layers allowed us to retain the valuable knowledge that each model had learned from ImageNet. This approach proved to be effective in improving performance with minimal training data.\n",
        "\n",
        "4. **Fine-Tuning**:\n",
        "   - The choice of hyperparameters—such as learning rate (5e-4) and the Adam optimizer—played a critical role in ensuring stable and efficient training. Fine-tuning these parameters could yield even better performance, especially for models like EfficientNet-B0.\n",
        "\n",
        "---\n",
        "\n",
        "### **Challenges and Insights**:\n",
        "\n",
        "- **Model Loading and Adjustments**:\n",
        "   - The pre-trained models needed adjustments, including the removal of final layers and the freezing of specific parameters. This process required careful handling to ensure that the models adapted correctly to the CIFAR-10 dataset.\n",
        "   - EfficientNet-B0 and AlexNet, in particular, required downloading large model weights, and managing these dependencies was crucial to ensure smooth execution.\n",
        "\n",
        "- **Generalization Performance**:\n",
        "   - All models demonstrated strong generalization to the test set, with accuracies consistently above 81%. This highlights the strength of Transfer Learning in adapting to new tasks with minimal training data.\n",
        "\n",
        "- **Model Performance**:\n",
        "   - While ResNet-50 provided the best overall accuracy, the differences between models were relatively small, suggesting that all three architectures effectively leveraged their pre-trained knowledge for CIFAR-10.\n",
        "\n",
        "---\n",
        "\n",
        "### **Final Thoughts**:\n",
        "\n",
        "This project underscores the effectiveness of Transfer Learning as a technique for image classification. By leveraging pre-trained models such as ResNet-50, EfficientNet-B0, and AlexNet, we were able to achieve high performance on CIFAR-10 with minimal training effort. The diverse architectures showcased the flexibility of Transfer Learning, making it applicable to a wide range of tasks and environments.\n",
        "\n",
        "Future work could explore other pre-trained models, experiment with different fine-tuning strategies, or apply this methodology to more complex datasets. The results from this project confirm that Transfer Learning is a powerful tool for modern deep learning applications, especially when working with limited data.\n"
      ],
      "metadata": {
        "id": "V8jqnIgI4e7s"
      }
    }
  ],
  "metadata": {
    "kernelspec": {
      "display_name": "Python 3",
      "name": "python3"
    },
    "language_info": {
      "codemirror_mode": {
        "name": "ipython",
        "version": 3
      },
      "file_extension": ".py",
      "mimetype": "text/x-python",
      "name": "python",
      "nbconvert_exporter": "python",
      "pygments_lexer": "ipython3",
      "version": "3.9.0"
    },
    "toc": {
      "base_numbering": 1,
      "nav_menu": {},
      "number_sections": true,
      "sideBar": true,
      "skip_h1_title": false,
      "title_cell": "Table of Contents",
      "title_sidebar": "Contents",
      "toc_cell": false,
      "toc_position": {},
      "toc_section_display": true,
      "toc_window_display": false
    },
    "varInspector": {
      "cols": {
        "lenName": 16,
        "lenType": 16,
        "lenVar": 40
      },
      "kernels_config": {
        "python": {
          "delete_cmd_postfix": "",
          "delete_cmd_prefix": "del ",
          "library": "var_list.py",
          "varRefreshCmd": "print(var_dic_list())"
        },
        "r": {
          "delete_cmd_postfix": ") ",
          "delete_cmd_prefix": "rm(",
          "library": "var_list.r",
          "varRefreshCmd": "cat(var_dic_list()) "
        }
      },
      "types_to_exclude": [
        "module",
        "function",
        "builtin_function_or_method",
        "instance",
        "_Feature"
      ],
      "window_display": false
    },
    "colab": {
      "provenance": [],
      "gpuType": "T4"
    },
    "accelerator": "GPU"
  },
  "nbformat": 4,
  "nbformat_minor": 0
}